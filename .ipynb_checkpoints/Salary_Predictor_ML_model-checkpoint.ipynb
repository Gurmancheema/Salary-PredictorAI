{
 "cells": [
  {
   "cell_type": "markdown",
   "id": "d90f608f",
   "metadata": {},
   "source": [
    "# 1. Importing Libraries & Packages"
   ]
  },
  {
   "cell_type": "code",
   "execution_count": 1,
   "id": "9975a5da",
   "metadata": {},
   "outputs": [],
   "source": [
    "import pandas as pd\n",
    "import numpy as np\n",
    "import seaborn as sb\n",
    "import matplotlib.pyplot as plt\n",
    "import warnings\n",
    "warnings.filterwarnings('ignore')"
   ]
  },
  {
   "cell_type": "markdown",
   "id": "abcf9ed3",
   "metadata": {},
   "source": [
    "# 2. Data Import & Preview"
   ]
  },
  {
   "cell_type": "code",
   "execution_count": 2,
   "id": "394b5a0a",
   "metadata": {},
   "outputs": [
    {
     "data": {
      "text/html": [
       "<div>\n",
       "<style scoped>\n",
       "    .dataframe tbody tr th:only-of-type {\n",
       "        vertical-align: middle;\n",
       "    }\n",
       "\n",
       "    .dataframe tbody tr th {\n",
       "        vertical-align: top;\n",
       "    }\n",
       "\n",
       "    .dataframe thead th {\n",
       "        text-align: right;\n",
       "    }\n",
       "</style>\n",
       "<table border=\"1\" class=\"dataframe\">\n",
       "  <thead>\n",
       "    <tr style=\"text-align: right;\">\n",
       "      <th></th>\n",
       "      <th>Unnamed: 0</th>\n",
       "      <th>Age</th>\n",
       "      <th>Gender</th>\n",
       "      <th>Education Level</th>\n",
       "      <th>Job Title</th>\n",
       "      <th>Years of Experience</th>\n",
       "      <th>Salary</th>\n",
       "      <th>Country</th>\n",
       "      <th>Race</th>\n",
       "    </tr>\n",
       "  </thead>\n",
       "  <tbody>\n",
       "    <tr>\n",
       "      <th>0</th>\n",
       "      <td>0</td>\n",
       "      <td>32.0</td>\n",
       "      <td>Male</td>\n",
       "      <td>Bachelor's</td>\n",
       "      <td>Software Engineer</td>\n",
       "      <td>5.0</td>\n",
       "      <td>90000.0</td>\n",
       "      <td>UK</td>\n",
       "      <td>White</td>\n",
       "    </tr>\n",
       "    <tr>\n",
       "      <th>1</th>\n",
       "      <td>1</td>\n",
       "      <td>28.0</td>\n",
       "      <td>Female</td>\n",
       "      <td>Master's</td>\n",
       "      <td>Data Analyst</td>\n",
       "      <td>3.0</td>\n",
       "      <td>65000.0</td>\n",
       "      <td>USA</td>\n",
       "      <td>Hispanic</td>\n",
       "    </tr>\n",
       "    <tr>\n",
       "      <th>2</th>\n",
       "      <td>2</td>\n",
       "      <td>45.0</td>\n",
       "      <td>Male</td>\n",
       "      <td>PhD</td>\n",
       "      <td>Senior Manager</td>\n",
       "      <td>15.0</td>\n",
       "      <td>150000.0</td>\n",
       "      <td>Canada</td>\n",
       "      <td>White</td>\n",
       "    </tr>\n",
       "    <tr>\n",
       "      <th>3</th>\n",
       "      <td>3</td>\n",
       "      <td>36.0</td>\n",
       "      <td>Female</td>\n",
       "      <td>Bachelor's</td>\n",
       "      <td>Sales Associate</td>\n",
       "      <td>7.0</td>\n",
       "      <td>60000.0</td>\n",
       "      <td>USA</td>\n",
       "      <td>Hispanic</td>\n",
       "    </tr>\n",
       "    <tr>\n",
       "      <th>4</th>\n",
       "      <td>4</td>\n",
       "      <td>52.0</td>\n",
       "      <td>Male</td>\n",
       "      <td>Master's</td>\n",
       "      <td>Director</td>\n",
       "      <td>20.0</td>\n",
       "      <td>200000.0</td>\n",
       "      <td>USA</td>\n",
       "      <td>Asian</td>\n",
       "    </tr>\n",
       "  </tbody>\n",
       "</table>\n",
       "</div>"
      ],
      "text/plain": [
       "   Unnamed: 0   Age  Gender Education Level          Job Title  \\\n",
       "0           0  32.0    Male      Bachelor's  Software Engineer   \n",
       "1           1  28.0  Female        Master's       Data Analyst   \n",
       "2           2  45.0    Male             PhD     Senior Manager   \n",
       "3           3  36.0  Female      Bachelor's    Sales Associate   \n",
       "4           4  52.0    Male        Master's           Director   \n",
       "\n",
       "   Years of Experience    Salary Country      Race  \n",
       "0                  5.0   90000.0      UK     White  \n",
       "1                  3.0   65000.0     USA  Hispanic  \n",
       "2                 15.0  150000.0  Canada     White  \n",
       "3                  7.0   60000.0     USA  Hispanic  \n",
       "4                 20.0  200000.0     USA     Asian  "
      ]
     },
     "execution_count": 2,
     "metadata": {},
     "output_type": "execute_result"
    }
   ],
   "source": [
    "df= pd.read_csv('salary_data.csv')\n",
    "df.head()"
   ]
  },
  {
   "cell_type": "code",
   "execution_count": 3,
   "id": "96d2aa9a",
   "metadata": {},
   "outputs": [],
   "source": [
    "df.drop('Unnamed: 0',axis=1,inplace=True)"
   ]
  },
  {
   "cell_type": "markdown",
   "id": "09bc8710",
   "metadata": {},
   "source": [
    "# 3. Data Summary"
   ]
  },
  {
   "cell_type": "code",
   "execution_count": 4,
   "id": "a513e22b",
   "metadata": {},
   "outputs": [
    {
     "name": "stdout",
     "output_type": "stream",
     "text": [
      "<class 'pandas.core.frame.DataFrame'>\n",
      "RangeIndex: 6704 entries, 0 to 6703\n",
      "Data columns (total 8 columns):\n",
      " #   Column               Non-Null Count  Dtype  \n",
      "---  ------               --------------  -----  \n",
      " 0   Age                  6702 non-null   float64\n",
      " 1   Gender               6702 non-null   object \n",
      " 2   Education Level      6701 non-null   object \n",
      " 3   Job Title            6702 non-null   object \n",
      " 4   Years of Experience  6701 non-null   float64\n",
      " 5   Salary               6699 non-null   float64\n",
      " 6   Country              6704 non-null   object \n",
      " 7   Race                 6704 non-null   object \n",
      "dtypes: float64(3), object(5)\n",
      "memory usage: 419.1+ KB\n"
     ]
    }
   ],
   "source": [
    "df.info()"
   ]
  },
  {
   "cell_type": "markdown",
   "id": "5535ddcc",
   "metadata": {},
   "source": [
    "### 3.1 So there are 5 categorical columns & 3 numerical columns as specified by the datatype"
   ]
  },
  {
   "cell_type": "code",
   "execution_count": 5,
   "id": "8bda3640",
   "metadata": {},
   "outputs": [
    {
     "data": {
      "text/html": [
       "<div>\n",
       "<style scoped>\n",
       "    .dataframe tbody tr th:only-of-type {\n",
       "        vertical-align: middle;\n",
       "    }\n",
       "\n",
       "    .dataframe tbody tr th {\n",
       "        vertical-align: top;\n",
       "    }\n",
       "\n",
       "    .dataframe thead th {\n",
       "        text-align: right;\n",
       "    }\n",
       "</style>\n",
       "<table border=\"1\" class=\"dataframe\">\n",
       "  <thead>\n",
       "    <tr style=\"text-align: right;\">\n",
       "      <th></th>\n",
       "      <th>count</th>\n",
       "      <th>mean</th>\n",
       "      <th>std</th>\n",
       "      <th>min</th>\n",
       "      <th>25%</th>\n",
       "      <th>50%</th>\n",
       "      <th>75%</th>\n",
       "      <th>max</th>\n",
       "    </tr>\n",
       "  </thead>\n",
       "  <tbody>\n",
       "    <tr>\n",
       "      <th>Age</th>\n",
       "      <td>6702.0</td>\n",
       "      <td>33.620859</td>\n",
       "      <td>7.614633</td>\n",
       "      <td>21.0</td>\n",
       "      <td>28.0</td>\n",
       "      <td>32.0</td>\n",
       "      <td>38.0</td>\n",
       "      <td>62.0</td>\n",
       "    </tr>\n",
       "    <tr>\n",
       "      <th>Years of Experience</th>\n",
       "      <td>6701.0</td>\n",
       "      <td>8.094687</td>\n",
       "      <td>6.059003</td>\n",
       "      <td>0.0</td>\n",
       "      <td>3.0</td>\n",
       "      <td>7.0</td>\n",
       "      <td>12.0</td>\n",
       "      <td>34.0</td>\n",
       "    </tr>\n",
       "    <tr>\n",
       "      <th>Salary</th>\n",
       "      <td>6699.0</td>\n",
       "      <td>115326.964771</td>\n",
       "      <td>52786.183911</td>\n",
       "      <td>350.0</td>\n",
       "      <td>70000.0</td>\n",
       "      <td>115000.0</td>\n",
       "      <td>160000.0</td>\n",
       "      <td>250000.0</td>\n",
       "    </tr>\n",
       "  </tbody>\n",
       "</table>\n",
       "</div>"
      ],
      "text/plain": [
       "                      count           mean           std    min      25%  \\\n",
       "Age                  6702.0      33.620859      7.614633   21.0     28.0   \n",
       "Years of Experience  6701.0       8.094687      6.059003    0.0      3.0   \n",
       "Salary               6699.0  115326.964771  52786.183911  350.0  70000.0   \n",
       "\n",
       "                          50%       75%       max  \n",
       "Age                      32.0      38.0      62.0  \n",
       "Years of Experience       7.0      12.0      34.0  \n",
       "Salary               115000.0  160000.0  250000.0  "
      ]
     },
     "execution_count": 5,
     "metadata": {},
     "output_type": "execute_result"
    }
   ],
   "source": [
    "df.describe().transpose()"
   ]
  },
  {
   "cell_type": "code",
   "execution_count": 6,
   "id": "804c15ac",
   "metadata": {},
   "outputs": [
    {
     "name": "stdout",
     "output_type": "stream",
     "text": [
      "Total Rows  :  6704 \n",
      "Total Columns :  8\n"
     ]
    }
   ],
   "source": [
    "print('Total Rows  : ',df.shape[0] , '\\nTotal Columns : ',df.shape[1])"
   ]
  },
  {
   "cell_type": "markdown",
   "id": "790d3abd",
   "metadata": {},
   "source": [
    "### 3.2 We got the statistics of the numerical columns as well as the shape/size of dataset."
   ]
  },
  {
   "cell_type": "markdown",
   "id": "8c690ce8",
   "metadata": {},
   "source": [
    "# 4. Data Cleaning"
   ]
  },
  {
   "cell_type": "markdown",
   "id": "001f34a4",
   "metadata": {},
   "source": [
    "### 4.1 Checking for missing values & dealing with them accordingly"
   ]
  },
  {
   "cell_type": "code",
   "execution_count": 7,
   "id": "c9efef39",
   "metadata": {},
   "outputs": [
    {
     "name": "stdout",
     "output_type": "stream",
     "text": [
      "Age                    2\n",
      "Gender                 2\n",
      "Education Level        3\n",
      "Job Title              2\n",
      "Years of Experience    3\n",
      "Salary                 5\n",
      "Country                0\n",
      "Race                   0\n",
      "dtype: int64\n"
     ]
    }
   ],
   "source": [
    "print(df.isnull().sum())"
   ]
  },
  {
   "cell_type": "code",
   "execution_count": 8,
   "id": "81a1ac63",
   "metadata": {},
   "outputs": [
    {
     "name": "stdout",
     "output_type": "stream",
     "text": [
      "The missing values in Age column contributes: 0.075%\n"
     ]
    }
   ],
   "source": [
    "print('The missing values in Age column contributes: {}'.format(round((5/6704) * 100,3))+ '%')"
   ]
  },
  {
   "cell_type": "code",
   "execution_count": 9,
   "id": "b932bfc0",
   "metadata": {},
   "outputs": [
    {
     "name": "stdout",
     "output_type": "stream",
     "text": [
      "The % of missing values is very less, so we can drop these rows as they will not effect the dataset\n"
     ]
    }
   ],
   "source": [
    "print('The % of missing values is very less, so we can drop these rows as they will not effect the dataset')"
   ]
  },
  {
   "cell_type": "markdown",
   "id": "3a051538",
   "metadata": {},
   "source": [
    "### 4.2 Making a generalised function to check for missing values"
   ]
  },
  {
   "cell_type": "code",
   "execution_count": 10,
   "id": "bc02b8c1",
   "metadata": {},
   "outputs": [
    {
     "name": "stdout",
     "output_type": "stream",
     "text": [
      "The missing values in Age column contributes: 0.03% to data \n",
      "\n",
      "The missing values in Gender column contributes: 0.03% to data \n",
      "\n",
      "The missing values in Education Level column contributes: 0.045% to data \n",
      "\n",
      "The missing values in Job Title column contributes: 0.03% to data \n",
      "\n",
      "The missing values in Years of Experience column contributes: 0.045% to data \n",
      "\n",
      "The missing values in Salary column contributes: 0.075% to data \n",
      "\n",
      "No missing values in  Country column\n",
      "No missing values in  Race column\n"
     ]
    }
   ],
   "source": [
    "# Creating a list of columns in the dataset\n",
    "dataset_columns= list(df.columns)\n",
    "\n",
    "# Creating a list to store the null value count for each column\n",
    "null_values=[]\n",
    "for i in dataset_columns:\n",
    "    if df[i].isnull().sum() > 0:\n",
    "        null_values.append(df[i].isnull().sum())\n",
    "    else:\n",
    "        null_values.append(0)\n",
    "        \n",
    "# making a key-value pair in a dictionary for column names and the missing values\n",
    "new_dict = dict(zip(dataset_columns,null_values))\n",
    "\n",
    "#Traversing the dictionary to get the missing values and their percentage\n",
    "for x,y in new_dict.items():\n",
    "    if y>0:\n",
    "        print('The missing values in',x, 'column contributes: {}'.format(round((y/6704) * 100,3))+ '% to data \\n')\n",
    "    else:\n",
    "        print(\"No missing values in \",x,'column')"
   ]
  },
  {
   "cell_type": "markdown",
   "id": "49598794",
   "metadata": {},
   "source": [
    "### As the percentage of missing values is very less , dropping these rows won't affect the dataset. Therefore, we can drop these empty rows"
   ]
  },
  {
   "cell_type": "code",
   "execution_count": 11,
   "id": "d17a591b",
   "metadata": {},
   "outputs": [
    {
     "data": {
      "text/html": [
       "<div>\n",
       "<style scoped>\n",
       "    .dataframe tbody tr th:only-of-type {\n",
       "        vertical-align: middle;\n",
       "    }\n",
       "\n",
       "    .dataframe tbody tr th {\n",
       "        vertical-align: top;\n",
       "    }\n",
       "\n",
       "    .dataframe thead th {\n",
       "        text-align: right;\n",
       "    }\n",
       "</style>\n",
       "<table border=\"1\" class=\"dataframe\">\n",
       "  <thead>\n",
       "    <tr style=\"text-align: right;\">\n",
       "      <th></th>\n",
       "      <th>Age</th>\n",
       "      <th>Gender</th>\n",
       "      <th>Education Level</th>\n",
       "      <th>Job Title</th>\n",
       "      <th>Years of Experience</th>\n",
       "      <th>Salary</th>\n",
       "      <th>Country</th>\n",
       "      <th>Race</th>\n",
       "    </tr>\n",
       "  </thead>\n",
       "  <tbody>\n",
       "    <tr>\n",
       "      <th>0</th>\n",
       "      <td>32.0</td>\n",
       "      <td>Male</td>\n",
       "      <td>Bachelor's</td>\n",
       "      <td>Software Engineer</td>\n",
       "      <td>5.0</td>\n",
       "      <td>90000.0</td>\n",
       "      <td>UK</td>\n",
       "      <td>White</td>\n",
       "    </tr>\n",
       "    <tr>\n",
       "      <th>1</th>\n",
       "      <td>28.0</td>\n",
       "      <td>Female</td>\n",
       "      <td>Master's</td>\n",
       "      <td>Data Analyst</td>\n",
       "      <td>3.0</td>\n",
       "      <td>65000.0</td>\n",
       "      <td>USA</td>\n",
       "      <td>Hispanic</td>\n",
       "    </tr>\n",
       "    <tr>\n",
       "      <th>2</th>\n",
       "      <td>45.0</td>\n",
       "      <td>Male</td>\n",
       "      <td>PhD</td>\n",
       "      <td>Senior Manager</td>\n",
       "      <td>15.0</td>\n",
       "      <td>150000.0</td>\n",
       "      <td>Canada</td>\n",
       "      <td>White</td>\n",
       "    </tr>\n",
       "    <tr>\n",
       "      <th>3</th>\n",
       "      <td>36.0</td>\n",
       "      <td>Female</td>\n",
       "      <td>Bachelor's</td>\n",
       "      <td>Sales Associate</td>\n",
       "      <td>7.0</td>\n",
       "      <td>60000.0</td>\n",
       "      <td>USA</td>\n",
       "      <td>Hispanic</td>\n",
       "    </tr>\n",
       "    <tr>\n",
       "      <th>4</th>\n",
       "      <td>52.0</td>\n",
       "      <td>Male</td>\n",
       "      <td>Master's</td>\n",
       "      <td>Director</td>\n",
       "      <td>20.0</td>\n",
       "      <td>200000.0</td>\n",
       "      <td>USA</td>\n",
       "      <td>Asian</td>\n",
       "    </tr>\n",
       "  </tbody>\n",
       "</table>\n",
       "</div>"
      ],
      "text/plain": [
       "    Age  Gender Education Level          Job Title  Years of Experience  \\\n",
       "0  32.0    Male      Bachelor's  Software Engineer                  5.0   \n",
       "1  28.0  Female        Master's       Data Analyst                  3.0   \n",
       "2  45.0    Male             PhD     Senior Manager                 15.0   \n",
       "3  36.0  Female      Bachelor's    Sales Associate                  7.0   \n",
       "4  52.0    Male        Master's           Director                 20.0   \n",
       "\n",
       "     Salary Country      Race  \n",
       "0   90000.0      UK     White  \n",
       "1   65000.0     USA  Hispanic  \n",
       "2  150000.0  Canada     White  \n",
       "3   60000.0     USA  Hispanic  \n",
       "4  200000.0     USA     Asian  "
      ]
     },
     "execution_count": 11,
     "metadata": {},
     "output_type": "execute_result"
    }
   ],
   "source": [
    "df.head()"
   ]
  },
  {
   "cell_type": "code",
   "execution_count": 12,
   "id": "2ac0302b",
   "metadata": {},
   "outputs": [],
   "source": [
    "df = df.dropna()"
   ]
  },
  {
   "cell_type": "code",
   "execution_count": 13,
   "id": "a7bfeaad",
   "metadata": {},
   "outputs": [
    {
     "data": {
      "text/plain": [
       "(6698, 8)"
      ]
     },
     "execution_count": 13,
     "metadata": {},
     "output_type": "execute_result"
    }
   ],
   "source": [
    "df.shape"
   ]
  },
  {
   "cell_type": "code",
   "execution_count": 14,
   "id": "fd845d6d",
   "metadata": {},
   "outputs": [
    {
     "data": {
      "text/html": [
       "<div>\n",
       "<style scoped>\n",
       "    .dataframe tbody tr th:only-of-type {\n",
       "        vertical-align: middle;\n",
       "    }\n",
       "\n",
       "    .dataframe tbody tr th {\n",
       "        vertical-align: top;\n",
       "    }\n",
       "\n",
       "    .dataframe thead th {\n",
       "        text-align: right;\n",
       "    }\n",
       "</style>\n",
       "<table border=\"1\" class=\"dataframe\">\n",
       "  <thead>\n",
       "    <tr style=\"text-align: right;\">\n",
       "      <th></th>\n",
       "      <th>Age</th>\n",
       "      <th>Gender</th>\n",
       "      <th>Education Level</th>\n",
       "      <th>Job Title</th>\n",
       "      <th>Years of Experience</th>\n",
       "      <th>Salary</th>\n",
       "      <th>Country</th>\n",
       "      <th>Race</th>\n",
       "    </tr>\n",
       "  </thead>\n",
       "  <tbody>\n",
       "    <tr>\n",
       "      <th>0</th>\n",
       "      <td>32.0</td>\n",
       "      <td>Male</td>\n",
       "      <td>Bachelor's</td>\n",
       "      <td>Software Engineer</td>\n",
       "      <td>5.0</td>\n",
       "      <td>90000.0</td>\n",
       "      <td>UK</td>\n",
       "      <td>White</td>\n",
       "    </tr>\n",
       "    <tr>\n",
       "      <th>1</th>\n",
       "      <td>28.0</td>\n",
       "      <td>Female</td>\n",
       "      <td>Master's</td>\n",
       "      <td>Data Analyst</td>\n",
       "      <td>3.0</td>\n",
       "      <td>65000.0</td>\n",
       "      <td>USA</td>\n",
       "      <td>Hispanic</td>\n",
       "    </tr>\n",
       "    <tr>\n",
       "      <th>2</th>\n",
       "      <td>45.0</td>\n",
       "      <td>Male</td>\n",
       "      <td>PhD</td>\n",
       "      <td>Senior Manager</td>\n",
       "      <td>15.0</td>\n",
       "      <td>150000.0</td>\n",
       "      <td>Canada</td>\n",
       "      <td>White</td>\n",
       "    </tr>\n",
       "    <tr>\n",
       "      <th>3</th>\n",
       "      <td>36.0</td>\n",
       "      <td>Female</td>\n",
       "      <td>Bachelor's</td>\n",
       "      <td>Sales Associate</td>\n",
       "      <td>7.0</td>\n",
       "      <td>60000.0</td>\n",
       "      <td>USA</td>\n",
       "      <td>Hispanic</td>\n",
       "    </tr>\n",
       "    <tr>\n",
       "      <th>4</th>\n",
       "      <td>52.0</td>\n",
       "      <td>Male</td>\n",
       "      <td>Master's</td>\n",
       "      <td>Director</td>\n",
       "      <td>20.0</td>\n",
       "      <td>200000.0</td>\n",
       "      <td>USA</td>\n",
       "      <td>Asian</td>\n",
       "    </tr>\n",
       "  </tbody>\n",
       "</table>\n",
       "</div>"
      ],
      "text/plain": [
       "    Age  Gender Education Level          Job Title  Years of Experience  \\\n",
       "0  32.0    Male      Bachelor's  Software Engineer                  5.0   \n",
       "1  28.0  Female        Master's       Data Analyst                  3.0   \n",
       "2  45.0    Male             PhD     Senior Manager                 15.0   \n",
       "3  36.0  Female      Bachelor's    Sales Associate                  7.0   \n",
       "4  52.0    Male        Master's           Director                 20.0   \n",
       "\n",
       "     Salary Country      Race  \n",
       "0   90000.0      UK     White  \n",
       "1   65000.0     USA  Hispanic  \n",
       "2  150000.0  Canada     White  \n",
       "3   60000.0     USA  Hispanic  \n",
       "4  200000.0     USA     Asian  "
      ]
     },
     "execution_count": 14,
     "metadata": {},
     "output_type": "execute_result"
    }
   ],
   "source": [
    "df.head()"
   ]
  },
  {
   "cell_type": "code",
   "execution_count": 15,
   "id": "3edd6197",
   "metadata": {},
   "outputs": [
    {
     "data": {
      "text/plain": [
       "Age                    0\n",
       "Gender                 0\n",
       "Education Level        0\n",
       "Job Title              0\n",
       "Years of Experience    0\n",
       "Salary                 0\n",
       "Country                0\n",
       "Race                   0\n",
       "dtype: int64"
      ]
     },
     "execution_count": 15,
     "metadata": {},
     "output_type": "execute_result"
    }
   ],
   "source": [
    "df.isnull().sum()"
   ]
  },
  {
   "cell_type": "markdown",
   "id": "0e481381",
   "metadata": {},
   "source": [
    "# 5 Exploratory Data Analysis (EDA)"
   ]
  },
  {
   "cell_type": "markdown",
   "id": "ff71c455",
   "metadata": {},
   "source": [
    "#### 5.1 Let's start by exploring the distribution of salary range in the dataset"
   ]
  },
  {
   "cell_type": "code",
   "execution_count": 16,
   "id": "0f716279",
   "metadata": {},
   "outputs": [
    {
     "data": {
      "image/png": "[encoded data removed]",
      "text/plain": [
       "<Figure size 432x288 with 1 Axes>"
      ]
     },
     "metadata": {
      "needs_background": "light"
     },
     "output_type": "display_data"
    }
   ],
   "source": [
    "plt.hist(df['Salary'], bins=20, edgecolor='black')\n",
    "plt.xlabel('Salary Range')\n",
    "plt.ylabel('Frequency')\n",
    "plt.title(\"Distribution of Salary\")\n",
    "plt.show()"
   ]
  },
  {
   "cell_type": "markdown",
   "id": "8e8af2f2",
   "metadata": {},
   "source": [
    "#### 5.2 Relationship between Age & Salary of a person"
   ]
  },
  {
   "cell_type": "code",
   "execution_count": 17,
   "id": "1f04865e",
   "metadata": {},
   "outputs": [
    {
     "data": {
      "text/plain": [
       "<Axes: xlabel='Age', ylabel='Salary'>"
      ]
     },
     "execution_count": 17,
     "metadata": {},
     "output_type": "execute_result"
    },
    {
     "data": {
      "image/png": "[encoded data removed]",
      "text/plain": [
       "<Figure size 432x288 with 1 Axes>"
      ]
     },
     "metadata": {
      "needs_background": "light"
     },
     "output_type": "display_data"
    }
   ],
   "source": [
    "sb.lineplot(data = df, x= 'Age', y = 'Salary')"
   ]
  },
  {
   "cell_type": "markdown",
   "id": "e285e476",
   "metadata": {},
   "source": [
    "Let's take a broad look on the age ranges and salary of the people"
   ]
  },
  {
   "cell_type": "markdown",
   "id": "21976445",
   "metadata": {},
   "source": [
    "### Creating a new column called Age Range derived from Age column"
   ]
  },
  {
   "cell_type": "code",
   "execution_count": 18,
   "id": "b84e63e4",
   "metadata": {},
   "outputs": [
    {
     "data": {
      "image/png": "[encoded data removed]",
      "text/plain": [
       "<Figure size 432x288 with 1 Axes>"
      ]
     },
     "metadata": {
      "needs_background": "light"
     },
     "output_type": "display_data"
    }
   ],
   "source": [
    "bins = [0, 18, 30, 50, float('inf')]  # Define your age range bins\n",
    "labels = ['0-18', '19-30', '31-50', '51+']  # Labels for the age ranges\n",
    "\n",
    "# Create the 'AgeRange' column using pd.cut()\n",
    "df['AgeRange'] = pd.cut(df['Age'], bins=bins, labels=labels)\n",
    "\n",
    "sb.barplot(data = df , x= 'AgeRange' , y='Salary');"
   ]
  },
  {
   "cell_type": "markdown",
   "id": "5ae8ff4d",
   "metadata": {},
   "source": [
    "Clearly older people have more salaries as compared to younger ones"
   ]
  },
  {
   "cell_type": "markdown",
   "id": "9dd3d964",
   "metadata": {},
   "source": [
    "5.3 Relationship of Gender and Salary"
   ]
  },
  {
   "cell_type": "code",
   "execution_count": 19,
   "id": "357b007d",
   "metadata": {},
   "outputs": [
    {
     "data": {
      "text/plain": [
       "<Axes: xlabel='Gender', ylabel='Salary'>"
      ]
     },
     "execution_count": 19,
     "metadata": {},
     "output_type": "execute_result"
    },
    {
     "data": {
      "image/png": "[encoded data removed]",
      "text/plain": [
       "<Figure size 720x432 with 1 Axes>"
      ]
     },
     "metadata": {
      "needs_background": "light"
     },
     "output_type": "display_data"
    }
   ],
   "source": [
    "gender_salary = df.groupby('Gender')[['Salary']].mean()\n",
    "\n",
    "plt.figure(figsize = (10,6))\n",
    "sb.barplot(data= gender_salary, x=gender_salary.index, y = 'Salary')"
   ]
  },
  {
   "cell_type": "markdown",
   "id": "4bd7889b",
   "metadata": {},
   "source": [
    "5.4 Relationship of Education Level and Salary"
   ]
  },
  {
   "cell_type": "code",
   "execution_count": 20,
   "id": "8ab05604",
   "metadata": {},
   "outputs": [
    {
     "data": {
      "text/plain": [
       "array([\"Bachelor's\", \"Master's\", 'PhD', \"Bachelor's Degree\",\n",
       "       \"Master's Degree\", 'High School', 'phD'], dtype=object)"
      ]
     },
     "execution_count": 20,
     "metadata": {},
     "output_type": "execute_result"
    }
   ],
   "source": [
    "df['Education Level'].unique()"
   ]
  },
  {
   "cell_type": "code",
   "execution_count": 21,
   "id": "12111134",
   "metadata": {},
   "outputs": [],
   "source": [
    "df['Education Level'] = df['Education Level'].replace({\"Bachelor's Degree\":\"Bachelor's\",\"Master's Degree\":\"Master's\",'phD':'PhD'})"
   ]
  },
  {
   "cell_type": "code",
   "execution_count": 22,
   "id": "24ee7bdf",
   "metadata": {},
   "outputs": [],
   "source": [
    "salary_education = df.groupby('Education Level')[['Salary']].mean().sort_index()"
   ]
  },
  {
   "cell_type": "code",
   "execution_count": 23,
   "id": "0d8868df",
   "metadata": {},
   "outputs": [
    {
     "data": {
      "text/plain": [
       "<Axes: xlabel='Education Level', ylabel='Salary'>"
      ]
     },
     "execution_count": 23,
     "metadata": {},
     "output_type": "execute_result"
    },
    {
     "data": {
      "image/png": "[encoded data removed]",
      "text/plain": [
       "<Figure size 432x288 with 1 Axes>"
      ]
     },
     "metadata": {
      "needs_background": "light"
     },
     "output_type": "display_data"
    }
   ],
   "source": [
    "sb.barplot(data= salary_education,x = salary_education.index, y = 'Salary')"
   ]
  },
  {
   "cell_type": "markdown",
   "id": "16260c4c",
   "metadata": {},
   "source": [
    "5.4 let's explore the role of Gender in Education level and their salaries"
   ]
  },
  {
   "cell_type": "code",
   "execution_count": 24,
   "id": "8d8a82f1",
   "metadata": {},
   "outputs": [
    {
     "data": {
      "text/plain": [
       "<Axes: xlabel='Education Level', ylabel='Salary'>"
      ]
     },
     "execution_count": 24,
     "metadata": {},
     "output_type": "execute_result"
    },
    {
     "data": {
      "image/png": "[encoded data removed]",
      "text/plain": [
       "<Figure size 720x576 with 1 Axes>"
      ]
     },
     "metadata": {
      "needs_background": "light"
     },
     "output_type": "display_data"
    }
   ],
   "source": [
    "plt.figure(figsize=(10,8))\n",
    "sb.barplot(data= df,x = df['Education Level'], y = df['Salary'], hue= 'Gender')"
   ]
  },
  {
   "cell_type": "markdown",
   "id": "7cf3e41b",
   "metadata": {},
   "source": [
    "5.5 Let's find the top 10 highest paying job titles"
   ]
  },
  {
   "cell_type": "code",
   "execution_count": 25,
   "id": "40ca43c6",
   "metadata": {},
   "outputs": [],
   "source": [
    "job_salary = df.groupby('Job Title')[['Salary']].mean().sort_index()"
   ]
  },
  {
   "cell_type": "code",
   "execution_count": 26,
   "id": "59fc1d27",
   "metadata": {},
   "outputs": [
    {
     "data": {
      "text/html": [
       "<div>\n",
       "<style scoped>\n",
       "    .dataframe tbody tr th:only-of-type {\n",
       "        vertical-align: middle;\n",
       "    }\n",
       "\n",
       "    .dataframe tbody tr th {\n",
       "        vertical-align: top;\n",
       "    }\n",
       "\n",
       "    .dataframe thead th {\n",
       "        text-align: right;\n",
       "    }\n",
       "</style>\n",
       "<table border=\"1\" class=\"dataframe\">\n",
       "  <thead>\n",
       "    <tr style=\"text-align: right;\">\n",
       "      <th></th>\n",
       "      <th>Salary</th>\n",
       "    </tr>\n",
       "    <tr>\n",
       "      <th>Job Title</th>\n",
       "      <th></th>\n",
       "    </tr>\n",
       "  </thead>\n",
       "  <tbody>\n",
       "    <tr>\n",
       "      <th>Account Manager</th>\n",
       "      <td>75000.000000</td>\n",
       "    </tr>\n",
       "    <tr>\n",
       "      <th>Accountant</th>\n",
       "      <td>55000.000000</td>\n",
       "    </tr>\n",
       "    <tr>\n",
       "      <th>Administrative Assistant</th>\n",
       "      <td>50000.000000</td>\n",
       "    </tr>\n",
       "    <tr>\n",
       "      <th>Back end Developer</th>\n",
       "      <td>102352.561475</td>\n",
       "    </tr>\n",
       "    <tr>\n",
       "      <th>Business Analyst</th>\n",
       "      <td>77500.000000</td>\n",
       "    </tr>\n",
       "    <tr>\n",
       "      <th>...</th>\n",
       "      <td>...</td>\n",
       "    </tr>\n",
       "    <tr>\n",
       "      <th>UX Designer</th>\n",
       "      <td>80000.000000</td>\n",
       "    </tr>\n",
       "    <tr>\n",
       "      <th>UX Researcher</th>\n",
       "      <td>65000.000000</td>\n",
       "    </tr>\n",
       "    <tr>\n",
       "      <th>VP of Finance</th>\n",
       "      <td>200000.000000</td>\n",
       "    </tr>\n",
       "    <tr>\n",
       "      <th>VP of Operations</th>\n",
       "      <td>190000.000000</td>\n",
       "    </tr>\n",
       "    <tr>\n",
       "      <th>Web Developer</th>\n",
       "      <td>66436.781609</td>\n",
       "    </tr>\n",
       "  </tbody>\n",
       "</table>\n",
       "<p>191 rows × 1 columns</p>\n",
       "</div>"
      ],
      "text/plain": [
       "                                 Salary\n",
       "Job Title                              \n",
       "Account Manager            75000.000000\n",
       "Accountant                 55000.000000\n",
       "Administrative Assistant   50000.000000\n",
       "Back end Developer        102352.561475\n",
       "Business Analyst           77500.000000\n",
       "...                                 ...\n",
       "UX Designer                80000.000000\n",
       "UX Researcher              65000.000000\n",
       "VP of Finance             200000.000000\n",
       "VP of Operations          190000.000000\n",
       "Web Developer              66436.781609\n",
       "\n",
       "[191 rows x 1 columns]"
      ]
     },
     "execution_count": 26,
     "metadata": {},
     "output_type": "execute_result"
    }
   ],
   "source": [
    "job_salary"
   ]
  },
  {
   "cell_type": "code",
   "execution_count": 27,
   "id": "3236e0a6",
   "metadata": {},
   "outputs": [],
   "source": [
    "top_10_highest_paying_job_title = job_salary.nlargest(10,'Salary')"
   ]
  },
  {
   "cell_type": "code",
   "execution_count": 28,
   "id": "23460224",
   "metadata": {},
   "outputs": [
    {
     "data": {
      "image/png": "[encoded data removed]",
      "text/plain": [
       "<Figure size 1440x576 with 1 Axes>"
      ]
     },
     "metadata": {
      "needs_background": "light"
     },
     "output_type": "display_data"
    }
   ],
   "source": [
    "plt.figure(figsize = (20,8))\n",
    "sb.barplot( data = top_10_highest_paying_job_title, x = top_10_highest_paying_job_title.index, y= 'Salary')\n",
    "plt.xlabel('Job Title',size =20)\n",
    "plt.ylabel('Salary',size =20)\n",
    "\n",
    "plt.show()"
   ]
  },
  {
   "cell_type": "markdown",
   "id": "018f3530",
   "metadata": {},
   "source": [
    "5.6 let's find the bottom 10 least paying job titles"
   ]
  },
  {
   "cell_type": "code",
   "execution_count": 29,
   "id": "c894293d",
   "metadata": {},
   "outputs": [
    {
     "data": {
      "text/plain": [
       "Text(0, 0.5, 'Salary')"
      ]
     },
     "execution_count": 29,
     "metadata": {},
     "output_type": "execute_result"
    },
    {
     "data": {
      "image/png": "[encoded data removed]",
      "text/plain": [
       "<Figure size 1800x576 with 1 Axes>"
      ]
     },
     "metadata": {
      "needs_background": "light"
     },
     "output_type": "display_data"
    }
   ],
   "source": [
    "bottom_10_job_titles = job_salary.nsmallest(10, 'Salary')\n",
    "plt.figure(figsize = (25,8))\n",
    "sb.barplot(data = bottom_10_job_titles, x= bottom_10_job_titles.index, y= 'Salary')\n",
    "plt.xlabel('Job Title',size =20)\n",
    "plt.ylabel('Salary',size =20)"
   ]
  },
  {
   "cell_type": "markdown",
   "id": "b8ec6f02",
   "metadata": {},
   "source": [
    "5.7 let' see which country is earning more salary "
   ]
  },
  {
   "cell_type": "code",
   "execution_count": 30,
   "id": "401550a9",
   "metadata": {},
   "outputs": [
    {
     "data": {
      "text/plain": [
       "array(['UK', 'USA', 'Canada', 'China', 'Australia'], dtype=object)"
      ]
     },
     "execution_count": 30,
     "metadata": {},
     "output_type": "execute_result"
    }
   ],
   "source": [
    "df.Country.unique()"
   ]
  },
  {
   "cell_type": "code",
   "execution_count": 31,
   "id": "fd0a4515",
   "metadata": {},
   "outputs": [],
   "source": [
    "country_salary = df.groupby('Country')[['Salary']].mean().sort_index()"
   ]
  },
  {
   "cell_type": "code",
   "execution_count": 32,
   "id": "bd50374a",
   "metadata": {},
   "outputs": [
    {
     "data": {
      "text/plain": [
       "Text(0, 0.5, 'Salary')"
      ]
     },
     "execution_count": 32,
     "metadata": {},
     "output_type": "execute_result"
    },
    {
     "data": {
      "image/png": "[encoded data removed]",
      "text/plain": [
       "<Figure size 720x576 with 1 Axes>"
      ]
     },
     "metadata": {
      "needs_background": "light"
     },
     "output_type": "display_data"
    }
   ],
   "source": [
    "plt.figure(figsize = (10,8))\n",
    "sb.barplot(data = country_salary, x= country_salary.index, y= 'Salary')\n",
    "plt.xlabel('Country',size =15)\n",
    "plt.ylabel('Salary',size =15)"
   ]
  },
  {
   "cell_type": "code",
   "execution_count": 33,
   "id": "72663dbd",
   "metadata": {},
   "outputs": [
    {
     "data": {
      "text/plain": [
       "array(['White', 'Hispanic', 'Asian', 'Korean', 'Chinese', 'Australian',\n",
       "       'Welsh', 'African American', 'Mixed', 'Black'], dtype=object)"
      ]
     },
     "execution_count": 33,
     "metadata": {},
     "output_type": "execute_result"
    }
   ],
   "source": [
    "df.Race.unique()"
   ]
  },
  {
   "cell_type": "markdown",
   "id": "dfa0f00b",
   "metadata": {},
   "source": [
    "5.7 Relation between the race and salary"
   ]
  },
  {
   "cell_type": "code",
   "execution_count": 34,
   "id": "5d21026b",
   "metadata": {},
   "outputs": [],
   "source": [
    "race_salary = df.groupby('Race')[['Salary']].mean()"
   ]
  },
  {
   "cell_type": "code",
   "execution_count": 35,
   "id": "121b4b15",
   "metadata": {},
   "outputs": [
    {
     "data": {
      "text/plain": [
       "<Axes: xlabel='Race', ylabel='Salary'>"
      ]
     },
     "execution_count": 35,
     "metadata": {},
     "output_type": "execute_result"
    },
    {
     "data": {
      "image/png": "[encoded data removed]",
      "text/plain": [
       "<Figure size 720x576 with 1 Axes>"
      ]
     },
     "metadata": {
      "needs_background": "light"
     },
     "output_type": "display_data"
    }
   ],
   "source": [
    "plt.figure(figsize = (10,8))\n",
    "sb.barplot(data  = race_salary , x =race_salary.index , y= 'Salary')"
   ]
  },
  {
   "cell_type": "code",
   "execution_count": 36,
   "id": "cc11c69c",
   "metadata": {},
   "outputs": [
    {
     "data": {
      "text/html": [
       "<div>\n",
       "<style scoped>\n",
       "    .dataframe tbody tr th:only-of-type {\n",
       "        vertical-align: middle;\n",
       "    }\n",
       "\n",
       "    .dataframe tbody tr th {\n",
       "        vertical-align: top;\n",
       "    }\n",
       "\n",
       "    .dataframe thead th {\n",
       "        text-align: right;\n",
       "    }\n",
       "</style>\n",
       "<table border=\"1\" class=\"dataframe\">\n",
       "  <thead>\n",
       "    <tr style=\"text-align: right;\">\n",
       "      <th></th>\n",
       "      <th>Age</th>\n",
       "      <th>Gender</th>\n",
       "      <th>Education Level</th>\n",
       "      <th>Job Title</th>\n",
       "      <th>Years of Experience</th>\n",
       "      <th>Salary</th>\n",
       "      <th>Country</th>\n",
       "      <th>Race</th>\n",
       "      <th>AgeRange</th>\n",
       "    </tr>\n",
       "  </thead>\n",
       "  <tbody>\n",
       "    <tr>\n",
       "      <th>0</th>\n",
       "      <td>32.0</td>\n",
       "      <td>Male</td>\n",
       "      <td>Bachelor's</td>\n",
       "      <td>Software Engineer</td>\n",
       "      <td>5.0</td>\n",
       "      <td>90000.0</td>\n",
       "      <td>UK</td>\n",
       "      <td>White</td>\n",
       "      <td>31-50</td>\n",
       "    </tr>\n",
       "    <tr>\n",
       "      <th>1</th>\n",
       "      <td>28.0</td>\n",
       "      <td>Female</td>\n",
       "      <td>Master's</td>\n",
       "      <td>Data Analyst</td>\n",
       "      <td>3.0</td>\n",
       "      <td>65000.0</td>\n",
       "      <td>USA</td>\n",
       "      <td>Hispanic</td>\n",
       "      <td>19-30</td>\n",
       "    </tr>\n",
       "    <tr>\n",
       "      <th>2</th>\n",
       "      <td>45.0</td>\n",
       "      <td>Male</td>\n",
       "      <td>PhD</td>\n",
       "      <td>Senior Manager</td>\n",
       "      <td>15.0</td>\n",
       "      <td>150000.0</td>\n",
       "      <td>Canada</td>\n",
       "      <td>White</td>\n",
       "      <td>31-50</td>\n",
       "    </tr>\n",
       "    <tr>\n",
       "      <th>3</th>\n",
       "      <td>36.0</td>\n",
       "      <td>Female</td>\n",
       "      <td>Bachelor's</td>\n",
       "      <td>Sales Associate</td>\n",
       "      <td>7.0</td>\n",
       "      <td>60000.0</td>\n",
       "      <td>USA</td>\n",
       "      <td>Hispanic</td>\n",
       "      <td>31-50</td>\n",
       "    </tr>\n",
       "    <tr>\n",
       "      <th>4</th>\n",
       "      <td>52.0</td>\n",
       "      <td>Male</td>\n",
       "      <td>Master's</td>\n",
       "      <td>Director</td>\n",
       "      <td>20.0</td>\n",
       "      <td>200000.0</td>\n",
       "      <td>USA</td>\n",
       "      <td>Asian</td>\n",
       "      <td>51+</td>\n",
       "    </tr>\n",
       "  </tbody>\n",
       "</table>\n",
       "</div>"
      ],
      "text/plain": [
       "    Age  Gender Education Level          Job Title  Years of Experience  \\\n",
       "0  32.0    Male      Bachelor's  Software Engineer                  5.0   \n",
       "1  28.0  Female        Master's       Data Analyst                  3.0   \n",
       "2  45.0    Male             PhD     Senior Manager                 15.0   \n",
       "3  36.0  Female      Bachelor's    Sales Associate                  7.0   \n",
       "4  52.0    Male        Master's           Director                 20.0   \n",
       "\n",
       "     Salary Country      Race AgeRange  \n",
       "0   90000.0      UK     White    31-50  \n",
       "1   65000.0     USA  Hispanic    19-30  \n",
       "2  150000.0  Canada     White    31-50  \n",
       "3   60000.0     USA  Hispanic    31-50  \n",
       "4  200000.0     USA     Asian      51+  "
      ]
     },
     "execution_count": 36,
     "metadata": {},
     "output_type": "execute_result"
    }
   ],
   "source": [
    "df.head()"
   ]
  },
  {
   "cell_type": "code",
   "execution_count": 37,
   "id": "cb63f8a1",
   "metadata": {},
   "outputs": [
    {
     "data": {
      "text/plain": [
       "array([ 5. ,  3. , 15. ,  7. , 20. ,  2. , 12. ,  4. ,  1. , 10. , 18. ,\n",
       "        6. , 14. , 16. ,  0. , 22. , 19. ,  9. , 13. , 11. , 25. , 21. ,\n",
       "        8. , 17. , 23. , 24. ,  0.5,  1.5, 31. , 30. , 28. , 33. , 27. ,\n",
       "       34. , 29. , 26. , 32. ])"
      ]
     },
     "execution_count": 37,
     "metadata": {},
     "output_type": "execute_result"
    }
   ],
   "source": [
    "df['Years of Experience'].unique()"
   ]
  },
  {
   "cell_type": "markdown",
   "id": "f839cbbe",
   "metadata": {},
   "source": [
    "5.8 Relation between salary & years of expereince"
   ]
  },
  {
   "cell_type": "code",
   "execution_count": 38,
   "id": "cdd77dac",
   "metadata": {},
   "outputs": [
    {
     "data": {
      "text/plain": [
       "<Axes: xlabel='Years of Experience', ylabel='Salary'>"
      ]
     },
     "execution_count": 38,
     "metadata": {},
     "output_type": "execute_result"
    },
    {
     "data": {
      "image/png": "[encoded data removed]",
      "text/plain": [
       "<Figure size 720x576 with 1 Axes>"
      ]
     },
     "metadata": {
      "needs_background": "light"
     },
     "output_type": "display_data"
    }
   ],
   "source": [
    "plt.figure(figsize=(10,8))\n",
    "sb.lineplot(data= df , x= df['Years of Experience'] ,y =df['Salary'], color = 'red')"
   ]
  },
  {
   "cell_type": "markdown",
   "id": "757d85bb",
   "metadata": {},
   "source": [
    "5.5 Let's find the top 5 highest paying job titles and their Gender distribution"
   ]
  },
  {
   "cell_type": "code",
   "execution_count": 39,
   "id": "d5c5b999",
   "metadata": {},
   "outputs": [],
   "source": [
    "job_titles_salary = df.groupby(['Job Title','Gender'])[['Salary']].mean().reset_index()"
   ]
  },
  {
   "cell_type": "code",
   "execution_count": 40,
   "id": "699217b2",
   "metadata": {},
   "outputs": [
    {
     "data": {
      "text/html": [
       "<div>\n",
       "<style scoped>\n",
       "    .dataframe tbody tr th:only-of-type {\n",
       "        vertical-align: middle;\n",
       "    }\n",
       "\n",
       "    .dataframe tbody tr th {\n",
       "        vertical-align: top;\n",
       "    }\n",
       "\n",
       "    .dataframe thead th {\n",
       "        text-align: right;\n",
       "    }\n",
       "</style>\n",
       "<table border=\"1\" class=\"dataframe\">\n",
       "  <thead>\n",
       "    <tr style=\"text-align: right;\">\n",
       "      <th></th>\n",
       "      <th>Job Title</th>\n",
       "      <th>Gender</th>\n",
       "      <th>Salary</th>\n",
       "    </tr>\n",
       "  </thead>\n",
       "  <tbody>\n",
       "    <tr>\n",
       "      <th>0</th>\n",
       "      <td>Account Manager</td>\n",
       "      <td>Male</td>\n",
       "      <td>75000.000000</td>\n",
       "    </tr>\n",
       "    <tr>\n",
       "      <th>1</th>\n",
       "      <td>Accountant</td>\n",
       "      <td>Female</td>\n",
       "      <td>55000.000000</td>\n",
       "    </tr>\n",
       "    <tr>\n",
       "      <th>2</th>\n",
       "      <td>Administrative Assistant</td>\n",
       "      <td>Female</td>\n",
       "      <td>50000.000000</td>\n",
       "    </tr>\n",
       "    <tr>\n",
       "      <th>3</th>\n",
       "      <td>Back end Developer</td>\n",
       "      <td>Female</td>\n",
       "      <td>91942.938462</td>\n",
       "    </tr>\n",
       "    <tr>\n",
       "      <th>4</th>\n",
       "      <td>Back end Developer</td>\n",
       "      <td>Male</td>\n",
       "      <td>106155.254237</td>\n",
       "    </tr>\n",
       "    <tr>\n",
       "      <th>...</th>\n",
       "      <td>...</td>\n",
       "      <td>...</td>\n",
       "      <td>...</td>\n",
       "    </tr>\n",
       "    <tr>\n",
       "      <th>264</th>\n",
       "      <td>UX Researcher</td>\n",
       "      <td>Female</td>\n",
       "      <td>65000.000000</td>\n",
       "    </tr>\n",
       "    <tr>\n",
       "      <th>265</th>\n",
       "      <td>VP of Finance</td>\n",
       "      <td>Male</td>\n",
       "      <td>200000.000000</td>\n",
       "    </tr>\n",
       "    <tr>\n",
       "      <th>266</th>\n",
       "      <td>VP of Operations</td>\n",
       "      <td>Male</td>\n",
       "      <td>190000.000000</td>\n",
       "    </tr>\n",
       "    <tr>\n",
       "      <th>267</th>\n",
       "      <td>Web Developer</td>\n",
       "      <td>Female</td>\n",
       "      <td>61794.871795</td>\n",
       "    </tr>\n",
       "    <tr>\n",
       "      <th>268</th>\n",
       "      <td>Web Developer</td>\n",
       "      <td>Male</td>\n",
       "      <td>70208.333333</td>\n",
       "    </tr>\n",
       "  </tbody>\n",
       "</table>\n",
       "<p>269 rows × 3 columns</p>\n",
       "</div>"
      ],
      "text/plain": [
       "                    Job Title  Gender         Salary\n",
       "0             Account Manager    Male   75000.000000\n",
       "1                  Accountant  Female   55000.000000\n",
       "2    Administrative Assistant  Female   50000.000000\n",
       "3          Back end Developer  Female   91942.938462\n",
       "4          Back end Developer    Male  106155.254237\n",
       "..                        ...     ...            ...\n",
       "264             UX Researcher  Female   65000.000000\n",
       "265             VP of Finance    Male  200000.000000\n",
       "266          VP of Operations    Male  190000.000000\n",
       "267             Web Developer  Female   61794.871795\n",
       "268             Web Developer    Male   70208.333333\n",
       "\n",
       "[269 rows x 3 columns]"
      ]
     },
     "execution_count": 40,
     "metadata": {},
     "output_type": "execute_result"
    }
   ],
   "source": [
    "job_titles_salary"
   ]
  },
  {
   "cell_type": "code",
   "execution_count": 41,
   "id": "a441388e",
   "metadata": {},
   "outputs": [
    {
     "data": {
      "text/html": [
       "<div>\n",
       "<style scoped>\n",
       "    .dataframe tbody tr th:only-of-type {\n",
       "        vertical-align: middle;\n",
       "    }\n",
       "\n",
       "    .dataframe tbody tr th {\n",
       "        vertical-align: top;\n",
       "    }\n",
       "\n",
       "    .dataframe thead th {\n",
       "        text-align: right;\n",
       "    }\n",
       "</style>\n",
       "<table border=\"1\" class=\"dataframe\">\n",
       "  <thead>\n",
       "    <tr style=\"text-align: right;\">\n",
       "      <th></th>\n",
       "      <th>Job Title</th>\n",
       "      <th>Gender</th>\n",
       "      <th>Salary</th>\n",
       "    </tr>\n",
       "  </thead>\n",
       "  <tbody>\n",
       "    <tr>\n",
       "      <th>0</th>\n",
       "      <td>CEO</td>\n",
       "      <td>Male</td>\n",
       "      <td>250000.000000</td>\n",
       "    </tr>\n",
       "    <tr>\n",
       "      <th>1</th>\n",
       "      <td>Chief Technology Officer</td>\n",
       "      <td>Male</td>\n",
       "      <td>250000.000000</td>\n",
       "    </tr>\n",
       "    <tr>\n",
       "      <th>2</th>\n",
       "      <td>Chief Data Officer</td>\n",
       "      <td>Male</td>\n",
       "      <td>220000.000000</td>\n",
       "    </tr>\n",
       "    <tr>\n",
       "      <th>3</th>\n",
       "      <td>Director of Data Science</td>\n",
       "      <td>Male</td>\n",
       "      <td>207741.935484</td>\n",
       "    </tr>\n",
       "    <tr>\n",
       "      <th>4</th>\n",
       "      <td>Director of Data Science</td>\n",
       "      <td>Female</td>\n",
       "      <td>200769.230769</td>\n",
       "    </tr>\n",
       "  </tbody>\n",
       "</table>\n",
       "</div>"
      ],
      "text/plain": [
       "                  Job Title  Gender         Salary\n",
       "0                       CEO    Male  250000.000000\n",
       "1  Chief Technology Officer    Male  250000.000000\n",
       "2        Chief Data Officer    Male  220000.000000\n",
       "3  Director of Data Science    Male  207741.935484\n",
       "4  Director of Data Science  Female  200769.230769"
      ]
     },
     "execution_count": 41,
     "metadata": {},
     "output_type": "execute_result"
    }
   ],
   "source": [
    "top_5 = job_titles_salary.nlargest(5,'Salary').reset_index(drop=True)\n",
    "top_5"
   ]
  },
  {
   "cell_type": "code",
   "execution_count": 42,
   "id": "8778efeb",
   "metadata": {},
   "outputs": [
    {
     "data": {
      "text/plain": [
       "<Axes: xlabel='Job Title', ylabel='Salary'>"
      ]
     },
     "execution_count": 42,
     "metadata": {},
     "output_type": "execute_result"
    },
    {
     "data": {
      "image/png": "[encoded data removed]",
      "text/plain": [
       "<Figure size 720x576 with 1 Axes>"
      ]
     },
     "metadata": {
      "needs_background": "light"
     },
     "output_type": "display_data"
    }
   ],
   "source": [
    "plt.figure(figsize=(10,8))\n",
    "sb.barplot(data = top_5 , x= 'Job Title', y= 'Salary',hue='Gender')"
   ]
  },
  {
   "cell_type": "code",
   "execution_count": 43,
   "id": "65e4ce0d",
   "metadata": {},
   "outputs": [],
   "source": [
    "education_gender= df.groupby(['Education Level','Race'])[['Salary']].mean().reset_index()"
   ]
  },
  {
   "cell_type": "code",
   "execution_count": 44,
   "id": "0dc71703",
   "metadata": {},
   "outputs": [
    {
     "data": {
      "text/html": [
       "<div>\n",
       "<style scoped>\n",
       "    .dataframe tbody tr th:only-of-type {\n",
       "        vertical-align: middle;\n",
       "    }\n",
       "\n",
       "    .dataframe tbody tr th {\n",
       "        vertical-align: top;\n",
       "    }\n",
       "\n",
       "    .dataframe thead th {\n",
       "        text-align: right;\n",
       "    }\n",
       "</style>\n",
       "<table border=\"1\" class=\"dataframe\">\n",
       "  <thead>\n",
       "    <tr style=\"text-align: right;\">\n",
       "      <th></th>\n",
       "      <th>Education Level</th>\n",
       "      <th>Race</th>\n",
       "      <th>Salary</th>\n",
       "    </tr>\n",
       "  </thead>\n",
       "  <tbody>\n",
       "    <tr>\n",
       "      <th>0</th>\n",
       "      <td>Bachelor's</td>\n",
       "      <td>African American</td>\n",
       "      <td>91624.271605</td>\n",
       "    </tr>\n",
       "    <tr>\n",
       "      <th>1</th>\n",
       "      <td>Bachelor's</td>\n",
       "      <td>Asian</td>\n",
       "      <td>95826.701351</td>\n",
       "    </tr>\n",
       "    <tr>\n",
       "      <th>2</th>\n",
       "      <td>Bachelor's</td>\n",
       "      <td>Australian</td>\n",
       "      <td>95017.768473</td>\n",
       "    </tr>\n",
       "    <tr>\n",
       "      <th>3</th>\n",
       "      <td>Bachelor's</td>\n",
       "      <td>Black</td>\n",
       "      <td>93177.400000</td>\n",
       "    </tr>\n",
       "    <tr>\n",
       "      <th>4</th>\n",
       "      <td>Bachelor's</td>\n",
       "      <td>Chinese</td>\n",
       "      <td>93078.084071</td>\n",
       "    </tr>\n",
       "    <tr>\n",
       "      <th>5</th>\n",
       "      <td>Bachelor's</td>\n",
       "      <td>Hispanic</td>\n",
       "      <td>91364.681818</td>\n",
       "    </tr>\n",
       "    <tr>\n",
       "      <th>6</th>\n",
       "      <td>Bachelor's</td>\n",
       "      <td>Korean</td>\n",
       "      <td>98848.808824</td>\n",
       "    </tr>\n",
       "    <tr>\n",
       "      <th>7</th>\n",
       "      <td>Bachelor's</td>\n",
       "      <td>Mixed</td>\n",
       "      <td>96100.862069</td>\n",
       "    </tr>\n",
       "    <tr>\n",
       "      <th>8</th>\n",
       "      <td>Bachelor's</td>\n",
       "      <td>Welsh</td>\n",
       "      <td>90116.338028</td>\n",
       "    </tr>\n",
       "    <tr>\n",
       "      <th>9</th>\n",
       "      <td>Bachelor's</td>\n",
       "      <td>White</td>\n",
       "      <td>96486.728655</td>\n",
       "    </tr>\n",
       "    <tr>\n",
       "      <th>10</th>\n",
       "      <td>High School</td>\n",
       "      <td>African American</td>\n",
       "      <td>38486.821429</td>\n",
       "    </tr>\n",
       "    <tr>\n",
       "      <th>11</th>\n",
       "      <td>High School</td>\n",
       "      <td>Asian</td>\n",
       "      <td>35891.353535</td>\n",
       "    </tr>\n",
       "    <tr>\n",
       "      <th>12</th>\n",
       "      <td>High School</td>\n",
       "      <td>Australian</td>\n",
       "      <td>37004.048780</td>\n",
       "    </tr>\n",
       "    <tr>\n",
       "      <th>13</th>\n",
       "      <td>High School</td>\n",
       "      <td>Black</td>\n",
       "      <td>45667.000000</td>\n",
       "    </tr>\n",
       "    <tr>\n",
       "      <th>14</th>\n",
       "      <td>High School</td>\n",
       "      <td>Chinese</td>\n",
       "      <td>33608.129032</td>\n",
       "    </tr>\n",
       "    <tr>\n",
       "      <th>15</th>\n",
       "      <td>High School</td>\n",
       "      <td>Hispanic</td>\n",
       "      <td>29000.000000</td>\n",
       "    </tr>\n",
       "    <tr>\n",
       "      <th>16</th>\n",
       "      <td>High School</td>\n",
       "      <td>Korean</td>\n",
       "      <td>32739.130435</td>\n",
       "    </tr>\n",
       "    <tr>\n",
       "      <th>17</th>\n",
       "      <td>High School</td>\n",
       "      <td>Mixed</td>\n",
       "      <td>33833.333333</td>\n",
       "    </tr>\n",
       "    <tr>\n",
       "      <th>18</th>\n",
       "      <td>High School</td>\n",
       "      <td>Welsh</td>\n",
       "      <td>33800.000000</td>\n",
       "    </tr>\n",
       "    <tr>\n",
       "      <th>19</th>\n",
       "      <td>High School</td>\n",
       "      <td>White</td>\n",
       "      <td>38659.750000</td>\n",
       "    </tr>\n",
       "    <tr>\n",
       "      <th>20</th>\n",
       "      <td>Master's</td>\n",
       "      <td>African American</td>\n",
       "      <td>131648.484211</td>\n",
       "    </tr>\n",
       "    <tr>\n",
       "      <th>21</th>\n",
       "      <td>Master's</td>\n",
       "      <td>Asian</td>\n",
       "      <td>129386.525843</td>\n",
       "    </tr>\n",
       "    <tr>\n",
       "      <th>22</th>\n",
       "      <td>Master's</td>\n",
       "      <td>Australian</td>\n",
       "      <td>131393.098361</td>\n",
       "    </tr>\n",
       "    <tr>\n",
       "      <th>23</th>\n",
       "      <td>Master's</td>\n",
       "      <td>Black</td>\n",
       "      <td>132790.023622</td>\n",
       "    </tr>\n",
       "    <tr>\n",
       "      <th>24</th>\n",
       "      <td>Master's</td>\n",
       "      <td>Chinese</td>\n",
       "      <td>128717.705882</td>\n",
       "    </tr>\n",
       "    <tr>\n",
       "      <th>25</th>\n",
       "      <td>Master's</td>\n",
       "      <td>Hispanic</td>\n",
       "      <td>126107.944444</td>\n",
       "    </tr>\n",
       "    <tr>\n",
       "      <th>26</th>\n",
       "      <td>Master's</td>\n",
       "      <td>Korean</td>\n",
       "      <td>126917.605839</td>\n",
       "    </tr>\n",
       "    <tr>\n",
       "      <th>27</th>\n",
       "      <td>Master's</td>\n",
       "      <td>Mixed</td>\n",
       "      <td>127439.593023</td>\n",
       "    </tr>\n",
       "    <tr>\n",
       "      <th>28</th>\n",
       "      <td>Master's</td>\n",
       "      <td>Welsh</td>\n",
       "      <td>125720.842105</td>\n",
       "    </tr>\n",
       "    <tr>\n",
       "      <th>29</th>\n",
       "      <td>Master's</td>\n",
       "      <td>White</td>\n",
       "      <td>132371.846702</td>\n",
       "    </tr>\n",
       "    <tr>\n",
       "      <th>30</th>\n",
       "      <td>PhD</td>\n",
       "      <td>African American</td>\n",
       "      <td>163693.478261</td>\n",
       "    </tr>\n",
       "    <tr>\n",
       "      <th>31</th>\n",
       "      <td>PhD</td>\n",
       "      <td>Asian</td>\n",
       "      <td>165477.144201</td>\n",
       "    </tr>\n",
       "    <tr>\n",
       "      <th>32</th>\n",
       "      <td>PhD</td>\n",
       "      <td>Australian</td>\n",
       "      <td>172084.267442</td>\n",
       "    </tr>\n",
       "    <tr>\n",
       "      <th>33</th>\n",
       "      <td>PhD</td>\n",
       "      <td>Black</td>\n",
       "      <td>167117.010309</td>\n",
       "    </tr>\n",
       "    <tr>\n",
       "      <th>34</th>\n",
       "      <td>PhD</td>\n",
       "      <td>Chinese</td>\n",
       "      <td>166342.952941</td>\n",
       "    </tr>\n",
       "    <tr>\n",
       "      <th>35</th>\n",
       "      <td>PhD</td>\n",
       "      <td>Hispanic</td>\n",
       "      <td>162393.033898</td>\n",
       "    </tr>\n",
       "    <tr>\n",
       "      <th>36</th>\n",
       "      <td>PhD</td>\n",
       "      <td>Korean</td>\n",
       "      <td>163534.623656</td>\n",
       "    </tr>\n",
       "    <tr>\n",
       "      <th>37</th>\n",
       "      <td>PhD</td>\n",
       "      <td>Mixed</td>\n",
       "      <td>166431.354430</td>\n",
       "    </tr>\n",
       "    <tr>\n",
       "      <th>38</th>\n",
       "      <td>PhD</td>\n",
       "      <td>Welsh</td>\n",
       "      <td>158772.302632</td>\n",
       "    </tr>\n",
       "    <tr>\n",
       "      <th>39</th>\n",
       "      <td>PhD</td>\n",
       "      <td>White</td>\n",
       "      <td>166358.024631</td>\n",
       "    </tr>\n",
       "  </tbody>\n",
       "</table>\n",
       "</div>"
      ],
      "text/plain": [
       "   Education Level              Race         Salary\n",
       "0       Bachelor's  African American   91624.271605\n",
       "1       Bachelor's             Asian   95826.701351\n",
       "2       Bachelor's        Australian   95017.768473\n",
       "3       Bachelor's             Black   93177.400000\n",
       "4       Bachelor's           Chinese   93078.084071\n",
       "5       Bachelor's          Hispanic   91364.681818\n",
       "6       Bachelor's            Korean   98848.808824\n",
       "7       Bachelor's             Mixed   96100.862069\n",
       "8       Bachelor's             Welsh   90116.338028\n",
       "9       Bachelor's             White   96486.728655\n",
       "10     High School  African American   38486.821429\n",
       "11     High School             Asian   35891.353535\n",
       "12     High School        Australian   37004.048780\n",
       "13     High School             Black   45667.000000\n",
       "14     High School           Chinese   33608.129032\n",
       "15     High School          Hispanic   29000.000000\n",
       "16     High School            Korean   32739.130435\n",
       "17     High School             Mixed   33833.333333\n",
       "18     High School             Welsh   33800.000000\n",
       "19     High School             White   38659.750000\n",
       "20        Master's  African American  131648.484211\n",
       "21        Master's             Asian  129386.525843\n",
       "22        Master's        Australian  131393.098361\n",
       "23        Master's             Black  132790.023622\n",
       "24        Master's           Chinese  128717.705882\n",
       "25        Master's          Hispanic  126107.944444\n",
       "26        Master's            Korean  126917.605839\n",
       "27        Master's             Mixed  127439.593023\n",
       "28        Master's             Welsh  125720.842105\n",
       "29        Master's             White  132371.846702\n",
       "30             PhD  African American  163693.478261\n",
       "31             PhD             Asian  165477.144201\n",
       "32             PhD        Australian  172084.267442\n",
       "33             PhD             Black  167117.010309\n",
       "34             PhD           Chinese  166342.952941\n",
       "35             PhD          Hispanic  162393.033898\n",
       "36             PhD            Korean  163534.623656\n",
       "37             PhD             Mixed  166431.354430\n",
       "38             PhD             Welsh  158772.302632\n",
       "39             PhD             White  166358.024631"
      ]
     },
     "execution_count": 44,
     "metadata": {},
     "output_type": "execute_result"
    }
   ],
   "source": [
    "education_gender"
   ]
  },
  {
   "cell_type": "code",
   "execution_count": 45,
   "id": "8241e983",
   "metadata": {},
   "outputs": [
    {
     "data": {
      "text/plain": [
       "<Axes: xlabel='Race', ylabel='Salary'>"
      ]
     },
     "execution_count": 45,
     "metadata": {},
     "output_type": "execute_result"
    },
    {
     "data": {
      "image/png": "[encoded data removed]",
      "text/plain": [
       "<Figure size 1080x576 with 1 Axes>"
      ]
     },
     "metadata": {
      "needs_background": "light"
     },
     "output_type": "display_data"
    }
   ],
   "source": [
    "plt.figure(figsize=(15,8))\n",
    "sb.barplot(data = education_gender, x='Race', y='Salary',hue ='Education Level')"
   ]
  },
  {
   "cell_type": "markdown",
   "id": "c6dd445b",
   "metadata": {},
   "source": [
    "# 6. Dataset Preparation"
   ]
  },
  {
   "cell_type": "code",
   "execution_count": 46,
   "id": "8139903e",
   "metadata": {},
   "outputs": [
    {
     "data": {
      "text/html": [
       "<div>\n",
       "<style scoped>\n",
       "    .dataframe tbody tr th:only-of-type {\n",
       "        vertical-align: middle;\n",
       "    }\n",
       "\n",
       "    .dataframe tbody tr th {\n",
       "        vertical-align: top;\n",
       "    }\n",
       "\n",
       "    .dataframe thead th {\n",
       "        text-align: right;\n",
       "    }\n",
       "</style>\n",
       "<table border=\"1\" class=\"dataframe\">\n",
       "  <thead>\n",
       "    <tr style=\"text-align: right;\">\n",
       "      <th></th>\n",
       "      <th>Age</th>\n",
       "      <th>Gender</th>\n",
       "      <th>Education Level</th>\n",
       "      <th>Job Title</th>\n",
       "      <th>Years of Experience</th>\n",
       "      <th>Salary</th>\n",
       "      <th>Country</th>\n",
       "      <th>Race</th>\n",
       "      <th>AgeRange</th>\n",
       "    </tr>\n",
       "  </thead>\n",
       "  <tbody>\n",
       "    <tr>\n",
       "      <th>0</th>\n",
       "      <td>32.0</td>\n",
       "      <td>Male</td>\n",
       "      <td>Bachelor's</td>\n",
       "      <td>Software Engineer</td>\n",
       "      <td>5.0</td>\n",
       "      <td>90000.0</td>\n",
       "      <td>UK</td>\n",
       "      <td>White</td>\n",
       "      <td>31-50</td>\n",
       "    </tr>\n",
       "    <tr>\n",
       "      <th>1</th>\n",
       "      <td>28.0</td>\n",
       "      <td>Female</td>\n",
       "      <td>Master's</td>\n",
       "      <td>Data Analyst</td>\n",
       "      <td>3.0</td>\n",
       "      <td>65000.0</td>\n",
       "      <td>USA</td>\n",
       "      <td>Hispanic</td>\n",
       "      <td>19-30</td>\n",
       "    </tr>\n",
       "    <tr>\n",
       "      <th>2</th>\n",
       "      <td>45.0</td>\n",
       "      <td>Male</td>\n",
       "      <td>PhD</td>\n",
       "      <td>Senior Manager</td>\n",
       "      <td>15.0</td>\n",
       "      <td>150000.0</td>\n",
       "      <td>Canada</td>\n",
       "      <td>White</td>\n",
       "      <td>31-50</td>\n",
       "    </tr>\n",
       "    <tr>\n",
       "      <th>3</th>\n",
       "      <td>36.0</td>\n",
       "      <td>Female</td>\n",
       "      <td>Bachelor's</td>\n",
       "      <td>Sales Associate</td>\n",
       "      <td>7.0</td>\n",
       "      <td>60000.0</td>\n",
       "      <td>USA</td>\n",
       "      <td>Hispanic</td>\n",
       "      <td>31-50</td>\n",
       "    </tr>\n",
       "    <tr>\n",
       "      <th>4</th>\n",
       "      <td>52.0</td>\n",
       "      <td>Male</td>\n",
       "      <td>Master's</td>\n",
       "      <td>Director</td>\n",
       "      <td>20.0</td>\n",
       "      <td>200000.0</td>\n",
       "      <td>USA</td>\n",
       "      <td>Asian</td>\n",
       "      <td>51+</td>\n",
       "    </tr>\n",
       "  </tbody>\n",
       "</table>\n",
       "</div>"
      ],
      "text/plain": [
       "    Age  Gender Education Level          Job Title  Years of Experience  \\\n",
       "0  32.0    Male      Bachelor's  Software Engineer                  5.0   \n",
       "1  28.0  Female        Master's       Data Analyst                  3.0   \n",
       "2  45.0    Male             PhD     Senior Manager                 15.0   \n",
       "3  36.0  Female      Bachelor's    Sales Associate                  7.0   \n",
       "4  52.0    Male        Master's           Director                 20.0   \n",
       "\n",
       "     Salary Country      Race AgeRange  \n",
       "0   90000.0      UK     White    31-50  \n",
       "1   65000.0     USA  Hispanic    19-30  \n",
       "2  150000.0  Canada     White    31-50  \n",
       "3   60000.0     USA  Hispanic    31-50  \n",
       "4  200000.0     USA     Asian      51+  "
      ]
     },
     "execution_count": 46,
     "metadata": {},
     "output_type": "execute_result"
    }
   ],
   "source": [
    "df.head()"
   ]
  },
  {
   "cell_type": "code",
   "execution_count": 47,
   "id": "955f788c",
   "metadata": {},
   "outputs": [],
   "source": [
    "X = df.drop(columns = ['Salary'])\n",
    "Y = df['Salary']"
   ]
  },
  {
   "cell_type": "code",
   "execution_count": 48,
   "id": "1d3ba60a",
   "metadata": {},
   "outputs": [],
   "source": [
    "from sklearn.model_selection import train_test_split\n",
    "\n",
    "X_train, X_test, Y_train,Y_test = train_test_split(X,Y,random_state = 2,test_size=0.3)"
   ]
  },
  {
   "cell_type": "markdown",
   "id": "353e86c2",
   "metadata": {},
   "source": [
    "now let's deal with the categorical values in the dataframe"
   ]
  },
  {
   "cell_type": "code",
   "execution_count": 57,
   "id": "8b1447a2",
   "metadata": {},
   "outputs": [],
   "source": [
    "from sklearn.preprocessing import OneHotEncoder\n",
    "encoder = OneHotEncoder(handle_unknown='ignore')"
   ]
  },
  {
   "cell_type": "code",
   "execution_count": 58,
   "id": "5c516d24",
   "metadata": {},
   "outputs": [
    {
     "ename": "KeyError",
     "evalue": "\"['AgeRange'] not found in axis\"",
     "output_type": "error",
     "traceback": [
      "\u001b[1;31m---------------------------------------------------------------------------\u001b[0m",
      "\u001b[1;31mKeyError\u001b[0m                                  Traceback (most recent call last)",
      "\u001b[1;32m~\\AppData\\Local\\Temp/ipykernel_11404/834131186.py\u001b[0m in \u001b[0;36m<module>\u001b[1;34m\u001b[0m\n\u001b[1;32m----> 1\u001b[1;33m \u001b[0mX_train\u001b[0m \u001b[1;33m=\u001b[0m \u001b[0mX_train\u001b[0m\u001b[1;33m.\u001b[0m\u001b[0mdrop\u001b[0m\u001b[1;33m(\u001b[0m\u001b[1;34m'AgeRange'\u001b[0m\u001b[1;33m,\u001b[0m\u001b[0maxis\u001b[0m\u001b[1;33m=\u001b[0m\u001b[1;36m1\u001b[0m\u001b[1;33m)\u001b[0m\u001b[1;33m\u001b[0m\u001b[1;33m\u001b[0m\u001b[0m\n\u001b[0m",
      "\u001b[1;32m~\\anaconda3\\lib\\site-packages\\pandas\\core\\frame.py\u001b[0m in \u001b[0;36mdrop\u001b[1;34m(self, labels, axis, index, columns, level, inplace, errors)\u001b[0m\n\u001b[0;32m   5256\u001b[0m                 \u001b[0mweight\u001b[0m  \u001b[1;36m1.0\u001b[0m     \u001b[1;36m0.8\u001b[0m\u001b[1;33m\u001b[0m\u001b[1;33m\u001b[0m\u001b[0m\n\u001b[0;32m   5257\u001b[0m         \"\"\"\n\u001b[1;32m-> 5258\u001b[1;33m         return super().drop(\n\u001b[0m\u001b[0;32m   5259\u001b[0m             \u001b[0mlabels\u001b[0m\u001b[1;33m=\u001b[0m\u001b[0mlabels\u001b[0m\u001b[1;33m,\u001b[0m\u001b[1;33m\u001b[0m\u001b[1;33m\u001b[0m\u001b[0m\n\u001b[0;32m   5260\u001b[0m             \u001b[0maxis\u001b[0m\u001b[1;33m=\u001b[0m\u001b[0maxis\u001b[0m\u001b[1;33m,\u001b[0m\u001b[1;33m\u001b[0m\u001b[1;33m\u001b[0m\u001b[0m\n",
      "\u001b[1;32m~\\anaconda3\\lib\\site-packages\\pandas\\core\\generic.py\u001b[0m in \u001b[0;36mdrop\u001b[1;34m(self, labels, axis, index, columns, level, inplace, errors)\u001b[0m\n\u001b[0;32m   4547\u001b[0m         \u001b[1;32mfor\u001b[0m \u001b[0maxis\u001b[0m\u001b[1;33m,\u001b[0m \u001b[0mlabels\u001b[0m \u001b[1;32min\u001b[0m \u001b[0maxes\u001b[0m\u001b[1;33m.\u001b[0m\u001b[0mitems\u001b[0m\u001b[1;33m(\u001b[0m\u001b[1;33m)\u001b[0m\u001b[1;33m:\u001b[0m\u001b[1;33m\u001b[0m\u001b[1;33m\u001b[0m\u001b[0m\n\u001b[0;32m   4548\u001b[0m             \u001b[1;32mif\u001b[0m \u001b[0mlabels\u001b[0m \u001b[1;32mis\u001b[0m \u001b[1;32mnot\u001b[0m \u001b[1;32mNone\u001b[0m\u001b[1;33m:\u001b[0m\u001b[1;33m\u001b[0m\u001b[1;33m\u001b[0m\u001b[0m\n\u001b[1;32m-> 4549\u001b[1;33m                 \u001b[0mobj\u001b[0m \u001b[1;33m=\u001b[0m \u001b[0mobj\u001b[0m\u001b[1;33m.\u001b[0m\u001b[0m_drop_axis\u001b[0m\u001b[1;33m(\u001b[0m\u001b[0mlabels\u001b[0m\u001b[1;33m,\u001b[0m \u001b[0maxis\u001b[0m\u001b[1;33m,\u001b[0m \u001b[0mlevel\u001b[0m\u001b[1;33m=\u001b[0m\u001b[0mlevel\u001b[0m\u001b[1;33m,\u001b[0m \u001b[0merrors\u001b[0m\u001b[1;33m=\u001b[0m\u001b[0merrors\u001b[0m\u001b[1;33m)\u001b[0m\u001b[1;33m\u001b[0m\u001b[1;33m\u001b[0m\u001b[0m\n\u001b[0m\u001b[0;32m   4550\u001b[0m \u001b[1;33m\u001b[0m\u001b[0m\n\u001b[0;32m   4551\u001b[0m         \u001b[1;32mif\u001b[0m \u001b[0minplace\u001b[0m\u001b[1;33m:\u001b[0m\u001b[1;33m\u001b[0m\u001b[1;33m\u001b[0m\u001b[0m\n",
      "\u001b[1;32m~\\anaconda3\\lib\\site-packages\\pandas\\core\\generic.py\u001b[0m in \u001b[0;36m_drop_axis\u001b[1;34m(self, labels, axis, level, errors, only_slice)\u001b[0m\n\u001b[0;32m   4589\u001b[0m                 \u001b[0mnew_axis\u001b[0m \u001b[1;33m=\u001b[0m \u001b[0maxis\u001b[0m\u001b[1;33m.\u001b[0m\u001b[0mdrop\u001b[0m\u001b[1;33m(\u001b[0m\u001b[0mlabels\u001b[0m\u001b[1;33m,\u001b[0m \u001b[0mlevel\u001b[0m\u001b[1;33m=\u001b[0m\u001b[0mlevel\u001b[0m\u001b[1;33m,\u001b[0m \u001b[0merrors\u001b[0m\u001b[1;33m=\u001b[0m\u001b[0merrors\u001b[0m\u001b[1;33m)\u001b[0m\u001b[1;33m\u001b[0m\u001b[1;33m\u001b[0m\u001b[0m\n\u001b[0;32m   4590\u001b[0m             \u001b[1;32melse\u001b[0m\u001b[1;33m:\u001b[0m\u001b[1;33m\u001b[0m\u001b[1;33m\u001b[0m\u001b[0m\n\u001b[1;32m-> 4591\u001b[1;33m                 \u001b[0mnew_axis\u001b[0m \u001b[1;33m=\u001b[0m \u001b[0maxis\u001b[0m\u001b[1;33m.\u001b[0m\u001b[0mdrop\u001b[0m\u001b[1;33m(\u001b[0m\u001b[0mlabels\u001b[0m\u001b[1;33m,\u001b[0m \u001b[0merrors\u001b[0m\u001b[1;33m=\u001b[0m\u001b[0merrors\u001b[0m\u001b[1;33m)\u001b[0m\u001b[1;33m\u001b[0m\u001b[1;33m\u001b[0m\u001b[0m\n\u001b[0m\u001b[0;32m   4592\u001b[0m             \u001b[0mindexer\u001b[0m \u001b[1;33m=\u001b[0m \u001b[0maxis\u001b[0m\u001b[1;33m.\u001b[0m\u001b[0mget_indexer\u001b[0m\u001b[1;33m(\u001b[0m\u001b[0mnew_axis\u001b[0m\u001b[1;33m)\u001b[0m\u001b[1;33m\u001b[0m\u001b[1;33m\u001b[0m\u001b[0m\n\u001b[0;32m   4593\u001b[0m \u001b[1;33m\u001b[0m\u001b[0m\n",
      "\u001b[1;32m~\\anaconda3\\lib\\site-packages\\pandas\\core\\indexes\\base.py\u001b[0m in \u001b[0;36mdrop\u001b[1;34m(self, labels, errors)\u001b[0m\n\u001b[0;32m   6697\u001b[0m         \u001b[1;32mif\u001b[0m \u001b[0mmask\u001b[0m\u001b[1;33m.\u001b[0m\u001b[0many\u001b[0m\u001b[1;33m(\u001b[0m\u001b[1;33m)\u001b[0m\u001b[1;33m:\u001b[0m\u001b[1;33m\u001b[0m\u001b[1;33m\u001b[0m\u001b[0m\n\u001b[0;32m   6698\u001b[0m             \u001b[1;32mif\u001b[0m \u001b[0merrors\u001b[0m \u001b[1;33m!=\u001b[0m \u001b[1;34m\"ignore\"\u001b[0m\u001b[1;33m:\u001b[0m\u001b[1;33m\u001b[0m\u001b[1;33m\u001b[0m\u001b[0m\n\u001b[1;32m-> 6699\u001b[1;33m                 \u001b[1;32mraise\u001b[0m \u001b[0mKeyError\u001b[0m\u001b[1;33m(\u001b[0m\u001b[1;34mf\"{list(labels[mask])} not found in axis\"\u001b[0m\u001b[1;33m)\u001b[0m\u001b[1;33m\u001b[0m\u001b[1;33m\u001b[0m\u001b[0m\n\u001b[0m\u001b[0;32m   6700\u001b[0m             \u001b[0mindexer\u001b[0m \u001b[1;33m=\u001b[0m \u001b[0mindexer\u001b[0m\u001b[1;33m[\u001b[0m\u001b[1;33m~\u001b[0m\u001b[0mmask\u001b[0m\u001b[1;33m]\u001b[0m\u001b[1;33m\u001b[0m\u001b[1;33m\u001b[0m\u001b[0m\n\u001b[0;32m   6701\u001b[0m         \u001b[1;32mreturn\u001b[0m \u001b[0mself\u001b[0m\u001b[1;33m.\u001b[0m\u001b[0mdelete\u001b[0m\u001b[1;33m(\u001b[0m\u001b[0mindexer\u001b[0m\u001b[1;33m)\u001b[0m\u001b[1;33m\u001b[0m\u001b[1;33m\u001b[0m\u001b[0m\n",
      "\u001b[1;31mKeyError\u001b[0m: \"['AgeRange'] not found in axis\""
     ]
    }
   ],
   "source": [
    "X_train = X_train.drop('AgeRange',axis=1)"
   ]
  },
  {
   "cell_type": "code",
   "execution_count": 51,
   "id": "7cd9ab86",
   "metadata": {},
   "outputs": [],
   "source": [
    "X_test = X_test.drop('AgeRange',axis=1)"
   ]
  },
  {
   "cell_type": "code",
   "execution_count": 59,
   "id": "38b51e61",
   "metadata": {},
   "outputs": [
    {
     "data": {
      "text/html": [
       "<div>\n",
       "<style scoped>\n",
       "    .dataframe tbody tr th:only-of-type {\n",
       "        vertical-align: middle;\n",
       "    }\n",
       "\n",
       "    .dataframe tbody tr th {\n",
       "        vertical-align: top;\n",
       "    }\n",
       "\n",
       "    .dataframe thead th {\n",
       "        text-align: right;\n",
       "    }\n",
       "</style>\n",
       "<table border=\"1\" class=\"dataframe\">\n",
       "  <thead>\n",
       "    <tr style=\"text-align: right;\">\n",
       "      <th></th>\n",
       "      <th>Age</th>\n",
       "      <th>Gender</th>\n",
       "      <th>Education Level</th>\n",
       "      <th>Job Title</th>\n",
       "      <th>Years of Experience</th>\n",
       "      <th>Country</th>\n",
       "      <th>Race</th>\n",
       "    </tr>\n",
       "  </thead>\n",
       "  <tbody>\n",
       "    <tr>\n",
       "      <th>1935</th>\n",
       "      <td>33.0</td>\n",
       "      <td>Female</td>\n",
       "      <td>Bachelor's</td>\n",
       "      <td>Full Stack Engineer</td>\n",
       "      <td>7.0</td>\n",
       "      <td>Canada</td>\n",
       "      <td>Asian</td>\n",
       "    </tr>\n",
       "    <tr>\n",
       "      <th>499</th>\n",
       "      <td>33.0</td>\n",
       "      <td>Male</td>\n",
       "      <td>PhD</td>\n",
       "      <td>Data Scientist</td>\n",
       "      <td>8.0</td>\n",
       "      <td>UK</td>\n",
       "      <td>Mixed</td>\n",
       "    </tr>\n",
       "    <tr>\n",
       "      <th>851</th>\n",
       "      <td>27.0</td>\n",
       "      <td>Male</td>\n",
       "      <td>Bachelor's</td>\n",
       "      <td>Software Engineer</td>\n",
       "      <td>4.0</td>\n",
       "      <td>USA</td>\n",
       "      <td>African American</td>\n",
       "    </tr>\n",
       "    <tr>\n",
       "      <th>6054</th>\n",
       "      <td>36.0</td>\n",
       "      <td>Female</td>\n",
       "      <td>PhD</td>\n",
       "      <td>Research Scientist</td>\n",
       "      <td>13.0</td>\n",
       "      <td>Australia</td>\n",
       "      <td>White</td>\n",
       "    </tr>\n",
       "    <tr>\n",
       "      <th>4733</th>\n",
       "      <td>35.0</td>\n",
       "      <td>Male</td>\n",
       "      <td>PhD</td>\n",
       "      <td>Senior Research Scientist</td>\n",
       "      <td>10.0</td>\n",
       "      <td>UK</td>\n",
       "      <td>White</td>\n",
       "    </tr>\n",
       "    <tr>\n",
       "      <th>...</th>\n",
       "      <td>...</td>\n",
       "      <td>...</td>\n",
       "      <td>...</td>\n",
       "      <td>...</td>\n",
       "      <td>...</td>\n",
       "      <td>...</td>\n",
       "      <td>...</td>\n",
       "    </tr>\n",
       "    <tr>\n",
       "      <th>6448</th>\n",
       "      <td>35.0</td>\n",
       "      <td>Female</td>\n",
       "      <td>PhD</td>\n",
       "      <td>Senior Product Marketing Manager</td>\n",
       "      <td>9.0</td>\n",
       "      <td>UK</td>\n",
       "      <td>Welsh</td>\n",
       "    </tr>\n",
       "    <tr>\n",
       "      <th>3610</th>\n",
       "      <td>27.0</td>\n",
       "      <td>Female</td>\n",
       "      <td>High School</td>\n",
       "      <td>Junior HR Generalist</td>\n",
       "      <td>1.0</td>\n",
       "      <td>USA</td>\n",
       "      <td>Asian</td>\n",
       "    </tr>\n",
       "    <tr>\n",
       "      <th>5709</th>\n",
       "      <td>36.0</td>\n",
       "      <td>Female</td>\n",
       "      <td>PhD</td>\n",
       "      <td>Research Scientist</td>\n",
       "      <td>12.0</td>\n",
       "      <td>Australia</td>\n",
       "      <td>Asian</td>\n",
       "    </tr>\n",
       "    <tr>\n",
       "      <th>6643</th>\n",
       "      <td>49.0</td>\n",
       "      <td>Female</td>\n",
       "      <td>PhD</td>\n",
       "      <td>Director of Marketing</td>\n",
       "      <td>20.0</td>\n",
       "      <td>Canada</td>\n",
       "      <td>Black</td>\n",
       "    </tr>\n",
       "    <tr>\n",
       "      <th>2578</th>\n",
       "      <td>26.0</td>\n",
       "      <td>Male</td>\n",
       "      <td>Master's</td>\n",
       "      <td>Full Stack Engineer</td>\n",
       "      <td>4.0</td>\n",
       "      <td>Australia</td>\n",
       "      <td>Asian</td>\n",
       "    </tr>\n",
       "  </tbody>\n",
       "</table>\n",
       "<p>4688 rows × 7 columns</p>\n",
       "</div>"
      ],
      "text/plain": [
       "       Age  Gender Education Level                         Job Title  \\\n",
       "1935  33.0  Female      Bachelor's               Full Stack Engineer   \n",
       "499   33.0    Male             PhD                    Data Scientist   \n",
       "851   27.0    Male      Bachelor's                 Software Engineer   \n",
       "6054  36.0  Female             PhD                Research Scientist   \n",
       "4733  35.0    Male             PhD         Senior Research Scientist   \n",
       "...    ...     ...             ...                               ...   \n",
       "6448  35.0  Female             PhD  Senior Product Marketing Manager   \n",
       "3610  27.0  Female     High School              Junior HR Generalist   \n",
       "5709  36.0  Female             PhD                Research Scientist   \n",
       "6643  49.0  Female             PhD             Director of Marketing   \n",
       "2578  26.0    Male        Master's               Full Stack Engineer   \n",
       "\n",
       "      Years of Experience    Country              Race  \n",
       "1935                  7.0     Canada             Asian  \n",
       "499                   8.0         UK             Mixed  \n",
       "851                   4.0        USA  African American  \n",
       "6054                 13.0  Australia             White  \n",
       "4733                 10.0         UK             White  \n",
       "...                   ...        ...               ...  \n",
       "6448                  9.0         UK             Welsh  \n",
       "3610                  1.0        USA             Asian  \n",
       "5709                 12.0  Australia             Asian  \n",
       "6643                 20.0     Canada             Black  \n",
       "2578                  4.0  Australia             Asian  \n",
       "\n",
       "[4688 rows x 7 columns]"
      ]
     },
     "execution_count": 59,
     "metadata": {},
     "output_type": "execute_result"
    }
   ],
   "source": [
    "X_train"
   ]
  },
  {
   "cell_type": "code",
   "execution_count": 60,
   "id": "23b7b3de",
   "metadata": {},
   "outputs": [
    {
     "data": {
      "text/html": [
       "<div>\n",
       "<style scoped>\n",
       "    .dataframe tbody tr th:only-of-type {\n",
       "        vertical-align: middle;\n",
       "    }\n",
       "\n",
       "    .dataframe tbody tr th {\n",
       "        vertical-align: top;\n",
       "    }\n",
       "\n",
       "    .dataframe thead th {\n",
       "        text-align: right;\n",
       "    }\n",
       "</style>\n",
       "<table border=\"1\" class=\"dataframe\">\n",
       "  <thead>\n",
       "    <tr style=\"text-align: right;\">\n",
       "      <th></th>\n",
       "      <th>Age</th>\n",
       "      <th>Gender</th>\n",
       "      <th>Education Level</th>\n",
       "      <th>Job Title</th>\n",
       "      <th>Years of Experience</th>\n",
       "      <th>Country</th>\n",
       "      <th>Race</th>\n",
       "    </tr>\n",
       "  </thead>\n",
       "  <tbody>\n",
       "    <tr>\n",
       "      <th>5879</th>\n",
       "      <td>28.0</td>\n",
       "      <td>Female</td>\n",
       "      <td>Bachelor's</td>\n",
       "      <td>Marketing Coordinator</td>\n",
       "      <td>3.0</td>\n",
       "      <td>UK</td>\n",
       "      <td>Asian</td>\n",
       "    </tr>\n",
       "    <tr>\n",
       "      <th>275</th>\n",
       "      <td>38.0</td>\n",
       "      <td>Female</td>\n",
       "      <td>Bachelor's</td>\n",
       "      <td>Senior Project Manager</td>\n",
       "      <td>9.0</td>\n",
       "      <td>UK</td>\n",
       "      <td>Asian</td>\n",
       "    </tr>\n",
       "    <tr>\n",
       "      <th>3322</th>\n",
       "      <td>25.0</td>\n",
       "      <td>Female</td>\n",
       "      <td>Master's</td>\n",
       "      <td>Software Engineer</td>\n",
       "      <td>2.0</td>\n",
       "      <td>Canada</td>\n",
       "      <td>Black</td>\n",
       "    </tr>\n",
       "    <tr>\n",
       "      <th>1762</th>\n",
       "      <td>35.0</td>\n",
       "      <td>Male</td>\n",
       "      <td>Bachelor's</td>\n",
       "      <td>Back end Developer</td>\n",
       "      <td>8.0</td>\n",
       "      <td>USA</td>\n",
       "      <td>African American</td>\n",
       "    </tr>\n",
       "    <tr>\n",
       "      <th>1567</th>\n",
       "      <td>43.0</td>\n",
       "      <td>Male</td>\n",
       "      <td>PhD</td>\n",
       "      <td>Senior Project Engineer</td>\n",
       "      <td>13.0</td>\n",
       "      <td>China</td>\n",
       "      <td>White</td>\n",
       "    </tr>\n",
       "    <tr>\n",
       "      <th>...</th>\n",
       "      <td>...</td>\n",
       "      <td>...</td>\n",
       "      <td>...</td>\n",
       "      <td>...</td>\n",
       "      <td>...</td>\n",
       "      <td>...</td>\n",
       "      <td>...</td>\n",
       "    </tr>\n",
       "    <tr>\n",
       "      <th>2119</th>\n",
       "      <td>36.0</td>\n",
       "      <td>Male</td>\n",
       "      <td>Bachelor's</td>\n",
       "      <td>Software Engineer Manager</td>\n",
       "      <td>8.0</td>\n",
       "      <td>USA</td>\n",
       "      <td>African American</td>\n",
       "    </tr>\n",
       "    <tr>\n",
       "      <th>638</th>\n",
       "      <td>28.0</td>\n",
       "      <td>Male</td>\n",
       "      <td>Bachelor's</td>\n",
       "      <td>Software Engineer</td>\n",
       "      <td>5.0</td>\n",
       "      <td>Canada</td>\n",
       "      <td>Black</td>\n",
       "    </tr>\n",
       "    <tr>\n",
       "      <th>2074</th>\n",
       "      <td>30.0</td>\n",
       "      <td>Female</td>\n",
       "      <td>Master's</td>\n",
       "      <td>Front end Developer</td>\n",
       "      <td>5.0</td>\n",
       "      <td>China</td>\n",
       "      <td>White</td>\n",
       "    </tr>\n",
       "    <tr>\n",
       "      <th>5618</th>\n",
       "      <td>30.0</td>\n",
       "      <td>Female</td>\n",
       "      <td>Bachelor's</td>\n",
       "      <td>Marketing Coordinator</td>\n",
       "      <td>5.0</td>\n",
       "      <td>Canada</td>\n",
       "      <td>Asian</td>\n",
       "    </tr>\n",
       "    <tr>\n",
       "      <th>5442</th>\n",
       "      <td>22.0</td>\n",
       "      <td>Female</td>\n",
       "      <td>High School</td>\n",
       "      <td>Receptionist</td>\n",
       "      <td>0.0</td>\n",
       "      <td>Canada</td>\n",
       "      <td>Asian</td>\n",
       "    </tr>\n",
       "  </tbody>\n",
       "</table>\n",
       "<p>2010 rows × 7 columns</p>\n",
       "</div>"
      ],
      "text/plain": [
       "       Age  Gender Education Level                  Job Title  \\\n",
       "5879  28.0  Female      Bachelor's      Marketing Coordinator   \n",
       "275   38.0  Female      Bachelor's     Senior Project Manager   \n",
       "3322  25.0  Female        Master's          Software Engineer   \n",
       "1762  35.0    Male      Bachelor's         Back end Developer   \n",
       "1567  43.0    Male             PhD    Senior Project Engineer   \n",
       "...    ...     ...             ...                        ...   \n",
       "2119  36.0    Male      Bachelor's  Software Engineer Manager   \n",
       "638   28.0    Male      Bachelor's          Software Engineer   \n",
       "2074  30.0  Female        Master's        Front end Developer   \n",
       "5618  30.0  Female      Bachelor's      Marketing Coordinator   \n",
       "5442  22.0  Female     High School               Receptionist   \n",
       "\n",
       "      Years of Experience Country              Race  \n",
       "5879                  3.0      UK             Asian  \n",
       "275                   9.0      UK             Asian  \n",
       "3322                  2.0  Canada             Black  \n",
       "1762                  8.0     USA  African American  \n",
       "1567                 13.0   China             White  \n",
       "...                   ...     ...               ...  \n",
       "2119                  8.0     USA  African American  \n",
       "638                   5.0  Canada             Black  \n",
       "2074                  5.0   China             White  \n",
       "5618                  5.0  Canada             Asian  \n",
       "5442                  0.0  Canada             Asian  \n",
       "\n",
       "[2010 rows x 7 columns]"
      ]
     },
     "execution_count": 60,
     "metadata": {},
     "output_type": "execute_result"
    }
   ],
   "source": [
    "X_test"
   ]
  },
  {
   "cell_type": "code",
   "execution_count": 61,
   "id": "76ae8228",
   "metadata": {},
   "outputs": [],
   "source": [
    "X_train_encoded = encoder.fit_transform(X_train)"
   ]
  },
  {
   "cell_type": "code",
   "execution_count": 78,
   "id": "a9299301",
   "metadata": {},
   "outputs": [
    {
     "data": {
      "text/plain": [
       "array([[0., 0., 0., ..., 0., 0., 0.],\n",
       "       [0., 0., 0., ..., 1., 0., 0.],\n",
       "       [0., 0., 0., ..., 0., 0., 0.],\n",
       "       ...,\n",
       "       [0., 0., 0., ..., 0., 0., 0.],\n",
       "       [0., 0., 0., ..., 0., 0., 0.],\n",
       "       [0., 0., 0., ..., 0., 0., 0.]])"
      ]
     },
     "execution_count": 78,
     "metadata": {},
     "output_type": "execute_result"
    }
   ],
   "source": [
    "X_train_encoded.toarray()"
   ]
  },
  {
   "cell_type": "code",
   "execution_count": 79,
   "id": "b9d046a6",
   "metadata": {},
   "outputs": [],
   "source": [
    "X_train_encoded_df = pd.DataFrame(X_train_encoded.toarray(),columns=encoder.get_feature_names(['Age','Gender','Education Level','Job Title','Years of Experience','Country','Race']))"
   ]
  },
  {
   "cell_type": "code",
   "execution_count": 80,
   "id": "61f60ce5",
   "metadata": {},
   "outputs": [
    {
     "data": {
      "text/html": [
       "<div>\n",
       "<style scoped>\n",
       "    .dataframe tbody tr th:only-of-type {\n",
       "        vertical-align: middle;\n",
       "    }\n",
       "\n",
       "    .dataframe tbody tr th {\n",
       "        vertical-align: top;\n",
       "    }\n",
       "\n",
       "    .dataframe thead th {\n",
       "        text-align: right;\n",
       "    }\n",
       "</style>\n",
       "<table border=\"1\" class=\"dataframe\">\n",
       "  <thead>\n",
       "    <tr style=\"text-align: right;\">\n",
       "      <th></th>\n",
       "      <th>Age_21.0</th>\n",
       "      <th>Age_22.0</th>\n",
       "      <th>Age_23.0</th>\n",
       "      <th>Age_24.0</th>\n",
       "      <th>Age_25.0</th>\n",
       "      <th>Age_26.0</th>\n",
       "      <th>Age_27.0</th>\n",
       "      <th>Age_28.0</th>\n",
       "      <th>Age_29.0</th>\n",
       "      <th>Age_30.0</th>\n",
       "      <th>...</th>\n",
       "      <th>Race_African American</th>\n",
       "      <th>Race_Asian</th>\n",
       "      <th>Race_Australian</th>\n",
       "      <th>Race_Black</th>\n",
       "      <th>Race_Chinese</th>\n",
       "      <th>Race_Hispanic</th>\n",
       "      <th>Race_Korean</th>\n",
       "      <th>Race_Mixed</th>\n",
       "      <th>Race_Welsh</th>\n",
       "      <th>Race_White</th>\n",
       "    </tr>\n",
       "  </thead>\n",
       "  <tbody>\n",
       "    <tr>\n",
       "      <th>0</th>\n",
       "      <td>0.0</td>\n",
       "      <td>0.0</td>\n",
       "      <td>0.0</td>\n",
       "      <td>0.0</td>\n",
       "      <td>0.0</td>\n",
       "      <td>0.0</td>\n",
       "      <td>0.0</td>\n",
       "      <td>0.0</td>\n",
       "      <td>0.0</td>\n",
       "      <td>0.0</td>\n",
       "      <td>...</td>\n",
       "      <td>0.0</td>\n",
       "      <td>1.0</td>\n",
       "      <td>0.0</td>\n",
       "      <td>0.0</td>\n",
       "      <td>0.0</td>\n",
       "      <td>0.0</td>\n",
       "      <td>0.0</td>\n",
       "      <td>0.0</td>\n",
       "      <td>0.0</td>\n",
       "      <td>0.0</td>\n",
       "    </tr>\n",
       "    <tr>\n",
       "      <th>1</th>\n",
       "      <td>0.0</td>\n",
       "      <td>0.0</td>\n",
       "      <td>0.0</td>\n",
       "      <td>0.0</td>\n",
       "      <td>0.0</td>\n",
       "      <td>0.0</td>\n",
       "      <td>0.0</td>\n",
       "      <td>0.0</td>\n",
       "      <td>0.0</td>\n",
       "      <td>0.0</td>\n",
       "      <td>...</td>\n",
       "      <td>0.0</td>\n",
       "      <td>0.0</td>\n",
       "      <td>0.0</td>\n",
       "      <td>0.0</td>\n",
       "      <td>0.0</td>\n",
       "      <td>0.0</td>\n",
       "      <td>0.0</td>\n",
       "      <td>1.0</td>\n",
       "      <td>0.0</td>\n",
       "      <td>0.0</td>\n",
       "    </tr>\n",
       "    <tr>\n",
       "      <th>2</th>\n",
       "      <td>0.0</td>\n",
       "      <td>0.0</td>\n",
       "      <td>0.0</td>\n",
       "      <td>0.0</td>\n",
       "      <td>0.0</td>\n",
       "      <td>0.0</td>\n",
       "      <td>1.0</td>\n",
       "      <td>0.0</td>\n",
       "      <td>0.0</td>\n",
       "      <td>0.0</td>\n",
       "      <td>...</td>\n",
       "      <td>1.0</td>\n",
       "      <td>0.0</td>\n",
       "      <td>0.0</td>\n",
       "      <td>0.0</td>\n",
       "      <td>0.0</td>\n",
       "      <td>0.0</td>\n",
       "      <td>0.0</td>\n",
       "      <td>0.0</td>\n",
       "      <td>0.0</td>\n",
       "      <td>0.0</td>\n",
       "    </tr>\n",
       "    <tr>\n",
       "      <th>3</th>\n",
       "      <td>0.0</td>\n",
       "      <td>0.0</td>\n",
       "      <td>0.0</td>\n",
       "      <td>0.0</td>\n",
       "      <td>0.0</td>\n",
       "      <td>0.0</td>\n",
       "      <td>0.0</td>\n",
       "      <td>0.0</td>\n",
       "      <td>0.0</td>\n",
       "      <td>0.0</td>\n",
       "      <td>...</td>\n",
       "      <td>0.0</td>\n",
       "      <td>0.0</td>\n",
       "      <td>0.0</td>\n",
       "      <td>0.0</td>\n",
       "      <td>0.0</td>\n",
       "      <td>0.0</td>\n",
       "      <td>0.0</td>\n",
       "      <td>0.0</td>\n",
       "      <td>0.0</td>\n",
       "      <td>1.0</td>\n",
       "    </tr>\n",
       "    <tr>\n",
       "      <th>4</th>\n",
       "      <td>0.0</td>\n",
       "      <td>0.0</td>\n",
       "      <td>0.0</td>\n",
       "      <td>0.0</td>\n",
       "      <td>0.0</td>\n",
       "      <td>0.0</td>\n",
       "      <td>0.0</td>\n",
       "      <td>0.0</td>\n",
       "      <td>0.0</td>\n",
       "      <td>0.0</td>\n",
       "      <td>...</td>\n",
       "      <td>0.0</td>\n",
       "      <td>0.0</td>\n",
       "      <td>0.0</td>\n",
       "      <td>0.0</td>\n",
       "      <td>0.0</td>\n",
       "      <td>0.0</td>\n",
       "      <td>0.0</td>\n",
       "      <td>0.0</td>\n",
       "      <td>0.0</td>\n",
       "      <td>1.0</td>\n",
       "    </tr>\n",
       "    <tr>\n",
       "      <th>...</th>\n",
       "      <td>...</td>\n",
       "      <td>...</td>\n",
       "      <td>...</td>\n",
       "      <td>...</td>\n",
       "      <td>...</td>\n",
       "      <td>...</td>\n",
       "      <td>...</td>\n",
       "      <td>...</td>\n",
       "      <td>...</td>\n",
       "      <td>...</td>\n",
       "      <td>...</td>\n",
       "      <td>...</td>\n",
       "      <td>...</td>\n",
       "      <td>...</td>\n",
       "      <td>...</td>\n",
       "      <td>...</td>\n",
       "      <td>...</td>\n",
       "      <td>...</td>\n",
       "      <td>...</td>\n",
       "      <td>...</td>\n",
       "      <td>...</td>\n",
       "    </tr>\n",
       "    <tr>\n",
       "      <th>4683</th>\n",
       "      <td>0.0</td>\n",
       "      <td>0.0</td>\n",
       "      <td>0.0</td>\n",
       "      <td>0.0</td>\n",
       "      <td>0.0</td>\n",
       "      <td>0.0</td>\n",
       "      <td>0.0</td>\n",
       "      <td>0.0</td>\n",
       "      <td>0.0</td>\n",
       "      <td>0.0</td>\n",
       "      <td>...</td>\n",
       "      <td>0.0</td>\n",
       "      <td>0.0</td>\n",
       "      <td>0.0</td>\n",
       "      <td>0.0</td>\n",
       "      <td>0.0</td>\n",
       "      <td>0.0</td>\n",
       "      <td>0.0</td>\n",
       "      <td>0.0</td>\n",
       "      <td>1.0</td>\n",
       "      <td>0.0</td>\n",
       "    </tr>\n",
       "    <tr>\n",
       "      <th>4684</th>\n",
       "      <td>0.0</td>\n",
       "      <td>0.0</td>\n",
       "      <td>0.0</td>\n",
       "      <td>0.0</td>\n",
       "      <td>0.0</td>\n",
       "      <td>0.0</td>\n",
       "      <td>1.0</td>\n",
       "      <td>0.0</td>\n",
       "      <td>0.0</td>\n",
       "      <td>0.0</td>\n",
       "      <td>...</td>\n",
       "      <td>0.0</td>\n",
       "      <td>1.0</td>\n",
       "      <td>0.0</td>\n",
       "      <td>0.0</td>\n",
       "      <td>0.0</td>\n",
       "      <td>0.0</td>\n",
       "      <td>0.0</td>\n",
       "      <td>0.0</td>\n",
       "      <td>0.0</td>\n",
       "      <td>0.0</td>\n",
       "    </tr>\n",
       "    <tr>\n",
       "      <th>4685</th>\n",
       "      <td>0.0</td>\n",
       "      <td>0.0</td>\n",
       "      <td>0.0</td>\n",
       "      <td>0.0</td>\n",
       "      <td>0.0</td>\n",
       "      <td>0.0</td>\n",
       "      <td>0.0</td>\n",
       "      <td>0.0</td>\n",
       "      <td>0.0</td>\n",
       "      <td>0.0</td>\n",
       "      <td>...</td>\n",
       "      <td>0.0</td>\n",
       "      <td>1.0</td>\n",
       "      <td>0.0</td>\n",
       "      <td>0.0</td>\n",
       "      <td>0.0</td>\n",
       "      <td>0.0</td>\n",
       "      <td>0.0</td>\n",
       "      <td>0.0</td>\n",
       "      <td>0.0</td>\n",
       "      <td>0.0</td>\n",
       "    </tr>\n",
       "    <tr>\n",
       "      <th>4686</th>\n",
       "      <td>0.0</td>\n",
       "      <td>0.0</td>\n",
       "      <td>0.0</td>\n",
       "      <td>0.0</td>\n",
       "      <td>0.0</td>\n",
       "      <td>0.0</td>\n",
       "      <td>0.0</td>\n",
       "      <td>0.0</td>\n",
       "      <td>0.0</td>\n",
       "      <td>0.0</td>\n",
       "      <td>...</td>\n",
       "      <td>0.0</td>\n",
       "      <td>0.0</td>\n",
       "      <td>0.0</td>\n",
       "      <td>1.0</td>\n",
       "      <td>0.0</td>\n",
       "      <td>0.0</td>\n",
       "      <td>0.0</td>\n",
       "      <td>0.0</td>\n",
       "      <td>0.0</td>\n",
       "      <td>0.0</td>\n",
       "    </tr>\n",
       "    <tr>\n",
       "      <th>4687</th>\n",
       "      <td>0.0</td>\n",
       "      <td>0.0</td>\n",
       "      <td>0.0</td>\n",
       "      <td>0.0</td>\n",
       "      <td>0.0</td>\n",
       "      <td>1.0</td>\n",
       "      <td>0.0</td>\n",
       "      <td>0.0</td>\n",
       "      <td>0.0</td>\n",
       "      <td>0.0</td>\n",
       "      <td>...</td>\n",
       "      <td>0.0</td>\n",
       "      <td>1.0</td>\n",
       "      <td>0.0</td>\n",
       "      <td>0.0</td>\n",
       "      <td>0.0</td>\n",
       "      <td>0.0</td>\n",
       "      <td>0.0</td>\n",
       "      <td>0.0</td>\n",
       "      <td>0.0</td>\n",
       "      <td>0.0</td>\n",
       "    </tr>\n",
       "  </tbody>\n",
       "</table>\n",
       "<p>4688 rows × 261 columns</p>\n",
       "</div>"
      ],
      "text/plain": [
       "      Age_21.0  Age_22.0  Age_23.0  Age_24.0  Age_25.0  Age_26.0  Age_27.0  \\\n",
       "0          0.0       0.0       0.0       0.0       0.0       0.0       0.0   \n",
       "1          0.0       0.0       0.0       0.0       0.0       0.0       0.0   \n",
       "2          0.0       0.0       0.0       0.0       0.0       0.0       1.0   \n",
       "3          0.0       0.0       0.0       0.0       0.0       0.0       0.0   \n",
       "4          0.0       0.0       0.0       0.0       0.0       0.0       0.0   \n",
       "...        ...       ...       ...       ...       ...       ...       ...   \n",
       "4683       0.0       0.0       0.0       0.0       0.0       0.0       0.0   \n",
       "4684       0.0       0.0       0.0       0.0       0.0       0.0       1.0   \n",
       "4685       0.0       0.0       0.0       0.0       0.0       0.0       0.0   \n",
       "4686       0.0       0.0       0.0       0.0       0.0       0.0       0.0   \n",
       "4687       0.0       0.0       0.0       0.0       0.0       1.0       0.0   \n",
       "\n",
       "      Age_28.0  Age_29.0  Age_30.0  ...  Race_African American  Race_Asian  \\\n",
       "0          0.0       0.0       0.0  ...                    0.0         1.0   \n",
       "1          0.0       0.0       0.0  ...                    0.0         0.0   \n",
       "2          0.0       0.0       0.0  ...                    1.0         0.0   \n",
       "3          0.0       0.0       0.0  ...                    0.0         0.0   \n",
       "4          0.0       0.0       0.0  ...                    0.0         0.0   \n",
       "...        ...       ...       ...  ...                    ...         ...   \n",
       "4683       0.0       0.0       0.0  ...                    0.0         0.0   \n",
       "4684       0.0       0.0       0.0  ...                    0.0         1.0   \n",
       "4685       0.0       0.0       0.0  ...                    0.0         1.0   \n",
       "4686       0.0       0.0       0.0  ...                    0.0         0.0   \n",
       "4687       0.0       0.0       0.0  ...                    0.0         1.0   \n",
       "\n",
       "      Race_Australian  Race_Black  Race_Chinese  Race_Hispanic  Race_Korean  \\\n",
       "0                 0.0         0.0           0.0            0.0          0.0   \n",
       "1                 0.0         0.0           0.0            0.0          0.0   \n",
       "2                 0.0         0.0           0.0            0.0          0.0   \n",
       "3                 0.0         0.0           0.0            0.0          0.0   \n",
       "4                 0.0         0.0           0.0            0.0          0.0   \n",
       "...               ...         ...           ...            ...          ...   \n",
       "4683              0.0         0.0           0.0            0.0          0.0   \n",
       "4684              0.0         0.0           0.0            0.0          0.0   \n",
       "4685              0.0         0.0           0.0            0.0          0.0   \n",
       "4686              0.0         1.0           0.0            0.0          0.0   \n",
       "4687              0.0         0.0           0.0            0.0          0.0   \n",
       "\n",
       "      Race_Mixed  Race_Welsh  Race_White  \n",
       "0            0.0         0.0         0.0  \n",
       "1            1.0         0.0         0.0  \n",
       "2            0.0         0.0         0.0  \n",
       "3            0.0         0.0         1.0  \n",
       "4            0.0         0.0         1.0  \n",
       "...          ...         ...         ...  \n",
       "4683         0.0         1.0         0.0  \n",
       "4684         0.0         0.0         0.0  \n",
       "4685         0.0         0.0         0.0  \n",
       "4686         0.0         0.0         0.0  \n",
       "4687         0.0         0.0         0.0  \n",
       "\n",
       "[4688 rows x 261 columns]"
      ]
     },
     "execution_count": 80,
     "metadata": {},
     "output_type": "execute_result"
    }
   ],
   "source": [
    "X_train_encoded_df"
   ]
  },
  {
   "cell_type": "code",
   "execution_count": 62,
   "id": "d37419e1",
   "metadata": {},
   "outputs": [],
   "source": [
    "X_test_encoded = encoder.transform(X_test)"
   ]
  },
  {
   "cell_type": "code",
   "execution_count": 63,
   "id": "442b314a",
   "metadata": {},
   "outputs": [],
   "source": [
    "from sklearn.ensemble import RandomForestRegressor\n",
    "from sklearn.metrics import mean_absolute_error\n",
    "from sklearn.metrics import mean_squared_error\n",
    "from sklearn.metrics import r2_score"
   ]
  },
  {
   "cell_type": "code",
   "execution_count": 64,
   "id": "46216bb6",
   "metadata": {},
   "outputs": [
    {
     "data": {
      "text/plain": [
       "RandomForestRegressor(max_depth=19, random_state=8)"
      ]
     },
     "execution_count": 64,
     "metadata": {},
     "output_type": "execute_result"
    }
   ],
   "source": [
    "rfr = RandomForestRegressor(n_estimators=100,\n",
    "                                max_depth=19,\n",
    "    random_state=8)\n",
    "\n",
    "rfr.fit(X_train_encoded,Y_train)"
   ]
  },
  {
   "cell_type": "code",
   "execution_count": 65,
   "id": "b991d77c",
   "metadata": {},
   "outputs": [],
   "source": [
    "predictions = rfr.predict(X_test_encoded)"
   ]
  },
  {
   "cell_type": "code",
   "execution_count": 66,
   "id": "a7f288bd",
   "metadata": {},
   "outputs": [
    {
     "name": "stdout",
     "output_type": "stream",
     "text": [
      "Mean Absolute Error: 7094.737812181439\n"
     ]
    }
   ],
   "source": [
    "# Calculate the Mean Absolute Error (MAE) for evaluation\n",
    "mae = mean_absolute_error(Y_test, predictions)\n",
    "print(f\"Mean Absolute Error: {mae}\")"
   ]
  },
  {
   "cell_type": "code",
   "execution_count": 67,
   "id": "8578719c",
   "metadata": {},
   "outputs": [
    {
     "name": "stdout",
     "output_type": "stream",
     "text": [
      "RMSE...:13107.3742\n"
     ]
    }
   ],
   "source": [
    "print(\"RMSE...:%.4f\" %np.sqrt(mean_squared_error(Y_test, predictions)))"
   ]
  },
  {
   "cell_type": "code",
   "execution_count": 68,
   "id": "49062911",
   "metadata": {},
   "outputs": [],
   "source": [
    "sample_data  = [25,'Male','PhD','Junior Data Scientist',2,'Canada','Asian']"
   ]
  },
  {
   "cell_type": "code",
   "execution_count": 72,
   "id": "aa311c10",
   "metadata": {},
   "outputs": [],
   "source": [
    "sample_test_data = pd.DataFrame([sample_data])"
   ]
  },
  {
   "cell_type": "code",
   "execution_count": 73,
   "id": "41153c15",
   "metadata": {},
   "outputs": [
    {
     "data": {
      "text/html": [
       "<div>\n",
       "<style scoped>\n",
       "    .dataframe tbody tr th:only-of-type {\n",
       "        vertical-align: middle;\n",
       "    }\n",
       "\n",
       "    .dataframe tbody tr th {\n",
       "        vertical-align: top;\n",
       "    }\n",
       "\n",
       "    .dataframe thead th {\n",
       "        text-align: right;\n",
       "    }\n",
       "</style>\n",
       "<table border=\"1\" class=\"dataframe\">\n",
       "  <thead>\n",
       "    <tr style=\"text-align: right;\">\n",
       "      <th></th>\n",
       "      <th>0</th>\n",
       "      <th>1</th>\n",
       "      <th>2</th>\n",
       "      <th>3</th>\n",
       "      <th>4</th>\n",
       "      <th>5</th>\n",
       "      <th>6</th>\n",
       "    </tr>\n",
       "  </thead>\n",
       "  <tbody>\n",
       "    <tr>\n",
       "      <th>0</th>\n",
       "      <td>25</td>\n",
       "      <td>Male</td>\n",
       "      <td>PhD</td>\n",
       "      <td>Junior Data Scientist</td>\n",
       "      <td>2</td>\n",
       "      <td>Canada</td>\n",
       "      <td>Asian</td>\n",
       "    </tr>\n",
       "  </tbody>\n",
       "</table>\n",
       "</div>"
      ],
      "text/plain": [
       "    0     1    2                      3  4       5      6\n",
       "0  25  Male  PhD  Junior Data Scientist  2  Canada  Asian"
      ]
     },
     "execution_count": 73,
     "metadata": {},
     "output_type": "execute_result"
    }
   ],
   "source": [
    "sample_test_data"
   ]
  },
  {
   "cell_type": "code",
   "execution_count": 74,
   "id": "12b68ccd",
   "metadata": {},
   "outputs": [],
   "source": [
    "sample_test_encoded = encoder.transform(sample_test_data)"
   ]
  },
  {
   "cell_type": "code",
   "execution_count": 75,
   "id": "754dc5da",
   "metadata": {},
   "outputs": [],
   "source": [
    "sample_prediction = rfr.predict(sample_test_encoded)"
   ]
  },
  {
   "cell_type": "code",
   "execution_count": 76,
   "id": "82e47821",
   "metadata": {},
   "outputs": [
    {
     "data": {
      "text/plain": [
       "array([151581.80341167])"
      ]
     },
     "execution_count": 76,
     "metadata": {},
     "output_type": "execute_result"
    }
   ],
   "source": [
    "sample_prediction"
   ]
  },
  {
   "cell_type": "markdown",
   "id": "7da17632",
   "metadata": {},
   "source": [
    "Appending the One-Hot Encoded columns into the original dataframe"
   ]
  },
  {
   "cell_type": "code",
   "execution_count": null,
   "id": "71daac64",
   "metadata": {},
   "outputs": [],
   "source": [
    "X_train_final_df = pd.concat([X_train,X_train_encoded_df], axis=1)"
   ]
  },
  {
   "cell_type": "code",
   "execution_count": null,
   "id": "3e7b134f",
   "metadata": {},
   "outputs": [],
   "source": [
    "X_train_final_df.head()"
   ]
  },
  {
   "cell_type": "markdown",
   "id": "c0fb6f00",
   "metadata": {},
   "source": [
    "### As the columns are now in numerical form we can make a copy of original dataframe to work on and drop the original categorical columns"
   ]
  },
  {
   "cell_type": "code",
   "execution_count": null,
   "id": "01dbc8da",
   "metadata": {},
   "outputs": [],
   "source": [
    "X_train_final_df= X_train_final_df.drop(['Gender','Education Level','Job Title','Country','Race'],axis=1)"
   ]
  },
  {
   "cell_type": "code",
   "execution_count": null,
   "id": "232f38f5",
   "metadata": {},
   "outputs": [],
   "source": [
    "X_train_final_df.head()"
   ]
  },
  {
   "cell_type": "code",
   "execution_count": null,
   "id": "18648ff9",
   "metadata": {},
   "outputs": [],
   "source": [
    "X_train_final_df=X_train_final_df.dropna()"
   ]
  },
  {
   "cell_type": "code",
   "execution_count": null,
   "id": "6c7cc23a",
   "metadata": {},
   "outputs": [],
   "source": [
    "X_train_final_df.head()"
   ]
  },
  {
   "cell_type": "markdown",
   "id": "e0c71dca",
   "metadata": {},
   "source": [
    "Though after One hot encoding the columns or the dimensionality of the dataset has increased, we will first try to train a model on this dimensionality before applying any dimensionality reduction techniques such as PCA"
   ]
  },
  {
   "cell_type": "markdown",
   "id": "9e9955bc",
   "metadata": {},
   "source": [
    "# 7 Model Training"
   ]
  },
  {
   "cell_type": "code",
   "execution_count": null,
   "id": "9bd220f8",
   "metadata": {},
   "outputs": [],
   "source": [
    "df.head()"
   ]
  },
  {
   "cell_type": "code",
   "execution_count": null,
   "id": "64bc4aa8",
   "metadata": {},
   "outputs": [],
   "source": [
    "df=df.dropna()"
   ]
  },
  {
   "cell_type": "code",
   "execution_count": null,
   "id": "2d30156e",
   "metadata": {},
   "outputs": [],
   "source": [
    "df = df.drop('AgeRange',axis=1)"
   ]
  },
  {
   "cell_type": "code",
   "execution_count": null,
   "id": "7b1160e6",
   "metadata": {},
   "outputs": [],
   "source": [
    "df.shape"
   ]
  },
  {
   "cell_type": "code",
   "execution_count": null,
   "id": "c1d556c3",
   "metadata": {},
   "outputs": [],
   "source": [
    "df.head()"
   ]
  },
  {
   "cell_type": "code",
   "execution_count": null,
   "id": "3aca1ee3",
   "metadata": {},
   "outputs": [],
   "source": [
    "X = df.drop(columns = ['Salary'])\n",
    "Y = df['Salary']"
   ]
  },
  {
   "cell_type": "code",
   "execution_count": null,
   "id": "7bb0f654",
   "metadata": {},
   "outputs": [],
   "source": [
    "from sklearn.model_selection import train_test_split\n",
    "\n",
    "X_train, X_test, Y_train,Y_test = train_test_split(X,Y,random_state = 2,test_size=0.3)"
   ]
  },
  {
   "cell_type": "code",
   "execution_count": null,
   "id": "aa6f9380",
   "metadata": {},
   "outputs": [],
   "source": [
    "from sklearn.ensemble import RandomForestRegressor\n",
    "from sklearn.metrics import mean_absolute_error\n",
    "from sklearn.metrics import mean_squared_error\n",
    "from sklearn.metrics import r2_score"
   ]
  },
  {
   "cell_type": "code",
   "execution_count": null,
   "id": "4a08e315",
   "metadata": {},
   "outputs": [],
   "source": [
    "rfr = RandomForestRegressor(n_estimators=100,\n",
    "                                max_depth=19,\n",
    "    random_state=8)\n",
    "\n",
    "rfr.fit(X_train,Y_train)"
   ]
  },
  {
   "cell_type": "code",
   "execution_count": null,
   "id": "5089c34b",
   "metadata": {},
   "outputs": [],
   "source": [
    "predictions = rfr.predict(X_test)"
   ]
  },
  {
   "cell_type": "code",
   "execution_count": null,
   "id": "87921500",
   "metadata": {},
   "outputs": [],
   "source": [
    "# Calculate the Mean Absolute Error (MAE) for evaluation\n",
    "mae = mean_absolute_error(Y_test, predictions)\n",
    "print(f\"Mean Absolute Error: {mae}\")"
   ]
  },
  {
   "cell_type": "code",
   "execution_count": null,
   "id": "bdb2143e",
   "metadata": {},
   "outputs": [],
   "source": [
    "print(\"RMSE...:%.4f\" %np.sqrt(mean_squared_error(Y_test, predictions)))"
   ]
  },
  {
   "cell_type": "code",
   "execution_count": null,
   "id": "f3347175",
   "metadata": {},
   "outputs": [],
   "source": [
    "print (\"R^2 score\",r2_score(Y_test, predictions))"
   ]
  },
  {
   "cell_type": "code",
   "execution_count": null,
   "id": "30086e55",
   "metadata": {},
   "outputs": [],
   "source": [
    "sb.regplot(x=Y_test,y=predictions)"
   ]
  },
  {
   "cell_type": "code",
   "execution_count": null,
   "id": "769cf5bc",
   "metadata": {},
   "outputs": [],
   "source": [
    "print(type(X_test))"
   ]
  },
  {
   "cell_type": "code",
   "execution_count": null,
   "id": "e8e6a6b4",
   "metadata": {},
   "outputs": [],
   "source": [
    "encoded = encoder.fit_transform(df[['Gender','Job Title','Education Level','Country','Race']])"
   ]
  },
  {
   "cell_type": "code",
   "execution_count": null,
   "id": "10f6cbc5",
   "metadata": {},
   "outputs": [],
   "source": [
    "sample_test = pd.DataFrame(['Male','Junior Data Scientist',\"Bachelor's\",'Canada','Asian'])"
   ]
  },
  {
   "cell_type": "code",
   "execution_count": null,
   "id": "ac4150a8",
   "metadata": {},
   "outputs": [],
   "source": [
    "sample_test = pd.DataFrame([['Male', 'Junior Data Scientist', \"Bachelor's\", 'Canada', 'Asian']],\n",
    "                           columns=['Gender', 'Job Title', 'Education Level', 'Country', 'Race'])"
   ]
  },
  {
   "cell_type": "code",
   "execution_count": null,
   "id": "5270cfbf",
   "metadata": {},
   "outputs": [],
   "source": [
    "print(type(sample_test))"
   ]
  },
  {
   "cell_type": "code",
   "execution_count": null,
   "id": "eb1a8ed3",
   "metadata": {},
   "outputs": [],
   "source": [
    "sample_encoded = encoder.fit_transform(sample_test)"
   ]
  },
  {
   "cell_type": "code",
   "execution_count": null,
   "id": "568ab43b",
   "metadata": {},
   "outputs": [],
   "source": [
    "sample_encoded"
   ]
  },
  {
   "cell_type": "code",
   "execution_count": null,
   "id": "735cc8f2",
   "metadata": {},
   "outputs": [],
   "source": [
    "sample_encoded_df= pd.DataFrame(sample_encoded.toarray(),columns=encoder.get_feature_names(['Gender','Job Title','Education Level','Country','Race']))"
   ]
  },
  {
   "cell_type": "code",
   "execution_count": null,
   "id": "bba8e95c",
   "metadata": {},
   "outputs": [],
   "source": [
    "sample_encoded_df"
   ]
  },
  {
   "cell_type": "code",
   "execution_count": null,
   "id": "bc482bd9",
   "metadata": {},
   "outputs": [],
   "source": [
    "sample_predcition  = rfr.predict(sample_encoded_df)"
   ]
  }
 ],
 "metadata": {
  "kernelspec": {
   "display_name": "Python 3 (ipykernel)",
   "language": "python",
   "name": "python3"
  },
  "language_info": {
   "codemirror_mode": {
    "name": "ipython",
    "version": 3
   },
   "file_extension": ".py",
   "mimetype": "text/x-python",
   "name": "python",
   "nbconvert_exporter": "python",
   "pygments_lexer": "ipython3",
   "version": "3.9.7"
  }
 },
 "nbformat": 4,
 "nbformat_minor": 5
}
